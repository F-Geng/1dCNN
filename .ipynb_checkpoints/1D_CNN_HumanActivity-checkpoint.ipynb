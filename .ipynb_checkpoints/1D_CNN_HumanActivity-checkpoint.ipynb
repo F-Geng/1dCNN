{
 "cells": [
  {
   "cell_type": "markdown",
   "id": "cc00c4c3",
   "metadata": {},
   "source": [
    "Excercise project inspired by https://www.machinecurve.com/index.php/2020/02/18/how-to-use-k-fold-cross-validation-with-keras/#evaluating-the-performance-of-your-model,\n",
    "https://machinelearningmastery.com/cnn-models-for-human-activity-recognition-time-series-classification/,\n",
    "and https://towardsdatascience.com/addressing-the-difference-between-keras-validation-split-and-sklearn-s-train-test-split-a3fb803b733."
   ]
  },
  {
   "cell_type": "code",
   "execution_count": 1,
   "id": "4f98e737",
   "metadata": {},
   "outputs": [],
   "source": [
    "import numpy as np\n",
    "import pandas as pd\n",
    "import matplotlib.pyplot as plt\n",
    "from collections import Counter"
   ]
  },
  {
   "cell_type": "code",
   "execution_count": 2,
   "id": "827f2d16",
   "metadata": {},
   "outputs": [
    {
     "name": "stderr",
     "output_type": "stream",
     "text": [
      "C:\\Users\\80136730\\Anaconda3\\envs\\Deep\\lib\\site-packages\\tensorflow\\python\\framework\\dtypes.py:516: FutureWarning: Passing (type, 1) or '1type' as a synonym of type is deprecated; in a future version of numpy, it will be understood as (type, (1,)) / '(1,)type'.\n",
      "  _np_qint8 = np.dtype([(\"qint8\", np.int8, 1)])\n",
      "C:\\Users\\80136730\\Anaconda3\\envs\\Deep\\lib\\site-packages\\tensorflow\\python\\framework\\dtypes.py:517: FutureWarning: Passing (type, 1) or '1type' as a synonym of type is deprecated; in a future version of numpy, it will be understood as (type, (1,)) / '(1,)type'.\n",
      "  _np_quint8 = np.dtype([(\"quint8\", np.uint8, 1)])\n",
      "C:\\Users\\80136730\\Anaconda3\\envs\\Deep\\lib\\site-packages\\tensorflow\\python\\framework\\dtypes.py:518: FutureWarning: Passing (type, 1) or '1type' as a synonym of type is deprecated; in a future version of numpy, it will be understood as (type, (1,)) / '(1,)type'.\n",
      "  _np_qint16 = np.dtype([(\"qint16\", np.int16, 1)])\n",
      "C:\\Users\\80136730\\Anaconda3\\envs\\Deep\\lib\\site-packages\\tensorflow\\python\\framework\\dtypes.py:519: FutureWarning: Passing (type, 1) or '1type' as a synonym of type is deprecated; in a future version of numpy, it will be understood as (type, (1,)) / '(1,)type'.\n",
      "  _np_quint16 = np.dtype([(\"quint16\", np.uint16, 1)])\n",
      "C:\\Users\\80136730\\Anaconda3\\envs\\Deep\\lib\\site-packages\\tensorflow\\python\\framework\\dtypes.py:520: FutureWarning: Passing (type, 1) or '1type' as a synonym of type is deprecated; in a future version of numpy, it will be understood as (type, (1,)) / '(1,)type'.\n",
      "  _np_qint32 = np.dtype([(\"qint32\", np.int32, 1)])\n",
      "C:\\Users\\80136730\\Anaconda3\\envs\\Deep\\lib\\site-packages\\tensorflow\\python\\framework\\dtypes.py:525: FutureWarning: Passing (type, 1) or '1type' as a synonym of type is deprecated; in a future version of numpy, it will be understood as (type, (1,)) / '(1,)type'.\n",
      "  np_resource = np.dtype([(\"resource\", np.ubyte, 1)])\n",
      "C:\\Users\\80136730\\Anaconda3\\envs\\Deep\\lib\\site-packages\\tensorboard\\compat\\tensorflow_stub\\dtypes.py:541: FutureWarning: Passing (type, 1) or '1type' as a synonym of type is deprecated; in a future version of numpy, it will be understood as (type, (1,)) / '(1,)type'.\n",
      "  _np_qint8 = np.dtype([(\"qint8\", np.int8, 1)])\n",
      "C:\\Users\\80136730\\Anaconda3\\envs\\Deep\\lib\\site-packages\\tensorboard\\compat\\tensorflow_stub\\dtypes.py:542: FutureWarning: Passing (type, 1) or '1type' as a synonym of type is deprecated; in a future version of numpy, it will be understood as (type, (1,)) / '(1,)type'.\n",
      "  _np_quint8 = np.dtype([(\"quint8\", np.uint8, 1)])\n",
      "C:\\Users\\80136730\\Anaconda3\\envs\\Deep\\lib\\site-packages\\tensorboard\\compat\\tensorflow_stub\\dtypes.py:543: FutureWarning: Passing (type, 1) or '1type' as a synonym of type is deprecated; in a future version of numpy, it will be understood as (type, (1,)) / '(1,)type'.\n",
      "  _np_qint16 = np.dtype([(\"qint16\", np.int16, 1)])\n",
      "C:\\Users\\80136730\\Anaconda3\\envs\\Deep\\lib\\site-packages\\tensorboard\\compat\\tensorflow_stub\\dtypes.py:544: FutureWarning: Passing (type, 1) or '1type' as a synonym of type is deprecated; in a future version of numpy, it will be understood as (type, (1,)) / '(1,)type'.\n",
      "  _np_quint16 = np.dtype([(\"quint16\", np.uint16, 1)])\n",
      "C:\\Users\\80136730\\Anaconda3\\envs\\Deep\\lib\\site-packages\\tensorboard\\compat\\tensorflow_stub\\dtypes.py:545: FutureWarning: Passing (type, 1) or '1type' as a synonym of type is deprecated; in a future version of numpy, it will be understood as (type, (1,)) / '(1,)type'.\n",
      "  _np_qint32 = np.dtype([(\"qint32\", np.int32, 1)])\n",
      "C:\\Users\\80136730\\Anaconda3\\envs\\Deep\\lib\\site-packages\\tensorboard\\compat\\tensorflow_stub\\dtypes.py:550: FutureWarning: Passing (type, 1) or '1type' as a synonym of type is deprecated; in a future version of numpy, it will be understood as (type, (1,)) / '(1,)type'.\n",
      "  np_resource = np.dtype([(\"resource\", np.ubyte, 1)])\n",
      "Using TensorFlow backend.\n"
     ]
    }
   ],
   "source": [
    "import tensorflow as tf\n",
    "\n",
    "from keras.utils import to_categorical\n",
    "from keras.models import Sequential\n",
    "from keras.layers import Dense\n",
    "from keras.layers import Flatten\n",
    "from keras.layers import Dropout\n",
    "from keras.layers.convolutional import Conv1D\n",
    "from keras.layers.convolutional import MaxPooling1D"
   ]
  },
  {
   "cell_type": "code",
   "execution_count": 3,
   "id": "4b674ff8",
   "metadata": {},
   "outputs": [],
   "source": [
    "pd.set_option('display.max_rows', 20)\n",
    "pd.set_option('display.max_columns', None)"
   ]
  },
  {
   "cell_type": "markdown",
   "id": "b78f8f2f",
   "metadata": {},
   "source": [
    "## Load data "
   ]
  },
  {
   "cell_type": "code",
   "execution_count": 4,
   "id": "8a774870",
   "metadata": {},
   "outputs": [],
   "source": [
    "# Load data from https://archive.ics.uci.edu/ml/machine-learning-databases/00240/UCI%20HAR%20Dataset.zip\n",
    "# and unzip all files into a new “HARDataset”directory in current working directory. "
   ]
  },
  {
   "cell_type": "code",
   "execution_count": 5,
   "id": "a1c495a2",
   "metadata": {},
   "outputs": [],
   "source": [
    "# In the \"train\" data folder, there are \n",
    "# 9 files recording 9 measurements in \"Inertial Signals\" folder, these are predictor data (independant variables), shape (7352 x 128);\n",
    "# and 1 y_train file, this is the target (dependant variables), shape (7352 x 1).\n",
    "\n",
    "# Similar with \"test\" data folder.\n",
    "\n",
    "# Let's read one training file and one testing file and have a quick look:\n",
    "\n",
    "X_train_file = r'C:\\Users\\80136730\\1dCNN\\HARDataset\\UCI HAR Dataset\\train\\Inertial Signals\\body_acc_x_train.txt' #there are 8 more\n",
    "y_train_file = r'C:\\Users\\80136730\\1dCNN\\HARDataset\\UCI HAR Dataset\\train\\y_train.txt'\n",
    "X_test_file = r'C:\\Users\\80136730\\1dCNN\\HARDataset\\UCI HAR Dataset\\test\\Inertial Signals\\body_acc_x_test.txt'  #there are 8 more\n",
    "y_test_file = r'C:\\Users\\80136730\\1dCNN\\HARDataset\\UCI HAR Dataset\\test\\y_test.txt'"
   ]
  },
  {
   "cell_type": "code",
   "execution_count": 6,
   "id": "4e1ca310",
   "metadata": {},
   "outputs": [],
   "source": [
    "X_train1 = pd.read_csv(X_train_file, header=None, delim_whitespace=True)\n",
    "y_train1 = pd.read_csv(y_train_file, header=None, delim_whitespace=True)"
   ]
  },
  {
   "cell_type": "code",
   "execution_count": 7,
   "id": "6983cd2b",
   "metadata": {},
   "outputs": [
    {
     "data": {
      "text/plain": [
       "((7352, 128), (7352, 1))"
      ]
     },
     "execution_count": 7,
     "metadata": {},
     "output_type": "execute_result"
    }
   ],
   "source": [
    "X_train1.shape, y_train1.shape"
   ]
  },
  {
   "cell_type": "code",
   "execution_count": 8,
   "id": "2f006e46",
   "metadata": {
    "scrolled": false
   },
   "outputs": [
    {
     "data": {
      "text/html": [
       "<div>\n",
       "<style scoped>\n",
       "    .dataframe tbody tr th:only-of-type {\n",
       "        vertical-align: middle;\n",
       "    }\n",
       "\n",
       "    .dataframe tbody tr th {\n",
       "        vertical-align: top;\n",
       "    }\n",
       "\n",
       "    .dataframe thead th {\n",
       "        text-align: right;\n",
       "    }\n",
       "</style>\n",
       "<table border=\"1\" class=\"dataframe\">\n",
       "  <thead>\n",
       "    <tr style=\"text-align: right;\">\n",
       "      <th></th>\n",
       "      <th>0</th>\n",
       "      <th>1</th>\n",
       "      <th>2</th>\n",
       "      <th>3</th>\n",
       "      <th>4</th>\n",
       "      <th>5</th>\n",
       "      <th>6</th>\n",
       "      <th>7</th>\n",
       "      <th>8</th>\n",
       "      <th>9</th>\n",
       "      <th>10</th>\n",
       "      <th>11</th>\n",
       "      <th>12</th>\n",
       "      <th>13</th>\n",
       "      <th>14</th>\n",
       "      <th>15</th>\n",
       "      <th>16</th>\n",
       "      <th>17</th>\n",
       "      <th>18</th>\n",
       "      <th>19</th>\n",
       "      <th>20</th>\n",
       "      <th>21</th>\n",
       "      <th>22</th>\n",
       "      <th>23</th>\n",
       "      <th>24</th>\n",
       "      <th>25</th>\n",
       "      <th>26</th>\n",
       "      <th>27</th>\n",
       "      <th>28</th>\n",
       "      <th>29</th>\n",
       "      <th>30</th>\n",
       "      <th>31</th>\n",
       "      <th>32</th>\n",
       "      <th>33</th>\n",
       "      <th>34</th>\n",
       "      <th>35</th>\n",
       "      <th>36</th>\n",
       "      <th>37</th>\n",
       "      <th>38</th>\n",
       "      <th>39</th>\n",
       "      <th>40</th>\n",
       "      <th>41</th>\n",
       "      <th>42</th>\n",
       "      <th>43</th>\n",
       "      <th>44</th>\n",
       "      <th>45</th>\n",
       "      <th>46</th>\n",
       "      <th>47</th>\n",
       "      <th>48</th>\n",
       "      <th>49</th>\n",
       "      <th>50</th>\n",
       "      <th>51</th>\n",
       "      <th>52</th>\n",
       "      <th>53</th>\n",
       "      <th>54</th>\n",
       "      <th>55</th>\n",
       "      <th>56</th>\n",
       "      <th>57</th>\n",
       "      <th>58</th>\n",
       "      <th>59</th>\n",
       "      <th>60</th>\n",
       "      <th>61</th>\n",
       "      <th>62</th>\n",
       "      <th>63</th>\n",
       "      <th>64</th>\n",
       "      <th>65</th>\n",
       "      <th>66</th>\n",
       "      <th>67</th>\n",
       "      <th>68</th>\n",
       "      <th>69</th>\n",
       "      <th>70</th>\n",
       "      <th>71</th>\n",
       "      <th>72</th>\n",
       "      <th>73</th>\n",
       "      <th>74</th>\n",
       "      <th>75</th>\n",
       "      <th>76</th>\n",
       "      <th>77</th>\n",
       "      <th>78</th>\n",
       "      <th>79</th>\n",
       "      <th>80</th>\n",
       "      <th>81</th>\n",
       "      <th>82</th>\n",
       "      <th>83</th>\n",
       "      <th>84</th>\n",
       "      <th>85</th>\n",
       "      <th>86</th>\n",
       "      <th>87</th>\n",
       "      <th>88</th>\n",
       "      <th>89</th>\n",
       "      <th>90</th>\n",
       "      <th>91</th>\n",
       "      <th>92</th>\n",
       "      <th>93</th>\n",
       "      <th>94</th>\n",
       "      <th>95</th>\n",
       "      <th>96</th>\n",
       "      <th>97</th>\n",
       "      <th>98</th>\n",
       "      <th>99</th>\n",
       "      <th>100</th>\n",
       "      <th>101</th>\n",
       "      <th>102</th>\n",
       "      <th>103</th>\n",
       "      <th>104</th>\n",
       "      <th>105</th>\n",
       "      <th>106</th>\n",
       "      <th>107</th>\n",
       "      <th>108</th>\n",
       "      <th>109</th>\n",
       "      <th>110</th>\n",
       "      <th>111</th>\n",
       "      <th>112</th>\n",
       "      <th>113</th>\n",
       "      <th>114</th>\n",
       "      <th>115</th>\n",
       "      <th>116</th>\n",
       "      <th>117</th>\n",
       "      <th>118</th>\n",
       "      <th>119</th>\n",
       "      <th>120</th>\n",
       "      <th>121</th>\n",
       "      <th>122</th>\n",
       "      <th>123</th>\n",
       "      <th>124</th>\n",
       "      <th>125</th>\n",
       "      <th>126</th>\n",
       "      <th>127</th>\n",
       "    </tr>\n",
       "  </thead>\n",
       "  <tbody>\n",
       "    <tr>\n",
       "      <th>0</th>\n",
       "      <td>0.000181</td>\n",
       "      <td>0.010139</td>\n",
       "      <td>0.009276</td>\n",
       "      <td>0.005066</td>\n",
       "      <td>0.010810</td>\n",
       "      <td>0.004045</td>\n",
       "      <td>0.004757</td>\n",
       "      <td>0.006214</td>\n",
       "      <td>0.003307</td>\n",
       "      <td>0.007572</td>\n",
       "      <td>0.005407</td>\n",
       "      <td>0.006221</td>\n",
       "      <td>0.006895</td>\n",
       "      <td>0.004610</td>\n",
       "      <td>0.007331</td>\n",
       "      <td>0.005078</td>\n",
       "      <td>0.005763</td>\n",
       "      <td>0.006693</td>\n",
       "      <td>0.005443</td>\n",
       "      <td>0.008241</td>\n",
       "      <td>0.006506</td>\n",
       "      <td>0.006532</td>\n",
       "      <td>0.007422</td>\n",
       "      <td>0.005772</td>\n",
       "      <td>0.006240</td>\n",
       "      <td>0.004623</td>\n",
       "      <td>0.004833</td>\n",
       "      <td>0.005499</td>\n",
       "      <td>0.004341</td>\n",
       "      <td>0.005098</td>\n",
       "      <td>0.004269</td>\n",
       "      <td>0.003045</td>\n",
       "      <td>0.003204</td>\n",
       "      <td>0.004520</td>\n",
       "      <td>0.005127</td>\n",
       "      <td>0.003550</td>\n",
       "      <td>0.004234</td>\n",
       "      <td>0.004469</td>\n",
       "      <td>0.003573</td>\n",
       "      <td>0.005136</td>\n",
       "      <td>0.005380</td>\n",
       "      <td>0.004409</td>\n",
       "      <td>0.002244</td>\n",
       "      <td>-0.001184</td>\n",
       "      <td>-0.000680</td>\n",
       "      <td>0.002281</td>\n",
       "      <td>0.003654</td>\n",
       "      <td>0.002313</td>\n",
       "      <td>-0.000040</td>\n",
       "      <td>0.000534</td>\n",
       "      <td>0.002963</td>\n",
       "      <td>0.004399</td>\n",
       "      <td>0.002702</td>\n",
       "      <td>0.000345</td>\n",
       "      <td>0.002917</td>\n",
       "      <td>0.004979</td>\n",
       "      <td>0.003447</td>\n",
       "      <td>0.004378</td>\n",
       "      <td>0.005006</td>\n",
       "      <td>0.001997</td>\n",
       "      <td>-0.000472</td>\n",
       "      <td>-0.000756</td>\n",
       "      <td>-0.001528</td>\n",
       "      <td>-0.002391</td>\n",
       "      <td>0.001094</td>\n",
       "      <td>0.004550</td>\n",
       "      <td>0.002879</td>\n",
       "      <td>0.002247</td>\n",
       "      <td>0.003305</td>\n",
       "      <td>0.002416</td>\n",
       "      <td>0.001619</td>\n",
       "      <td>0.000981</td>\n",
       "      <td>0.000009</td>\n",
       "      <td>-0.000363</td>\n",
       "      <td>-0.000487</td>\n",
       "      <td>-0.000356</td>\n",
       "      <td>-0.000229</td>\n",
       "      <td>-0.000131</td>\n",
       "      <td>-0.000441</td>\n",
       "      <td>-0.001565</td>\n",
       "      <td>-0.000929</td>\n",
       "      <td>0.000009</td>\n",
       "      <td>-0.001236</td>\n",
       "      <td>-0.000911</td>\n",
       "      <td>-0.000435</td>\n",
       "      <td>-0.001177</td>\n",
       "      <td>0.000165</td>\n",
       "      <td>0.000751</td>\n",
       "      <td>0.000389</td>\n",
       "      <td>0.001328</td>\n",
       "      <td>0.002053</td>\n",
       "      <td>0.002738</td>\n",
       "      <td>0.002743</td>\n",
       "      <td>0.001330</td>\n",
       "      <td>-0.000367</td>\n",
       "      <td>-0.000722</td>\n",
       "      <td>-0.001904</td>\n",
       "      <td>-0.004294</td>\n",
       "      <td>-0.000025</td>\n",
       "      <td>0.005251</td>\n",
       "      <td>0.002490</td>\n",
       "      <td>0.000811</td>\n",
       "      <td>0.001166</td>\n",
       "      <td>-0.000693</td>\n",
       "      <td>-0.000077</td>\n",
       "      <td>0.000504</td>\n",
       "      <td>-0.000495</td>\n",
       "      <td>0.000156</td>\n",
       "      <td>0.000065</td>\n",
       "      <td>-0.000320</td>\n",
       "      <td>0.000185</td>\n",
       "      <td>-0.000375</td>\n",
       "      <td>-0.001013</td>\n",
       "      <td>-0.001611</td>\n",
       "      <td>-0.001765</td>\n",
       "      <td>-0.000636</td>\n",
       "      <td>0.001047</td>\n",
       "      <td>0.003019</td>\n",
       "      <td>0.001412</td>\n",
       "      <td>-0.001509</td>\n",
       "      <td>0.000060</td>\n",
       "      <td>0.000435</td>\n",
       "      <td>-0.000819</td>\n",
       "      <td>0.000228</td>\n",
       "      <td>-0.000300</td>\n",
       "      <td>-0.001147</td>\n",
       "      <td>-0.000222</td>\n",
       "      <td>0.001576</td>\n",
       "    </tr>\n",
       "    <tr>\n",
       "      <th>1</th>\n",
       "      <td>0.001094</td>\n",
       "      <td>0.004550</td>\n",
       "      <td>0.002879</td>\n",
       "      <td>0.002247</td>\n",
       "      <td>0.003305</td>\n",
       "      <td>0.002416</td>\n",
       "      <td>0.001619</td>\n",
       "      <td>0.000981</td>\n",
       "      <td>0.000009</td>\n",
       "      <td>-0.000363</td>\n",
       "      <td>-0.000487</td>\n",
       "      <td>-0.000356</td>\n",
       "      <td>-0.000229</td>\n",
       "      <td>-0.000131</td>\n",
       "      <td>-0.000441</td>\n",
       "      <td>-0.001565</td>\n",
       "      <td>-0.000929</td>\n",
       "      <td>0.000009</td>\n",
       "      <td>-0.001236</td>\n",
       "      <td>-0.000911</td>\n",
       "      <td>-0.000435</td>\n",
       "      <td>-0.001177</td>\n",
       "      <td>0.000165</td>\n",
       "      <td>0.000751</td>\n",
       "      <td>0.000389</td>\n",
       "      <td>0.001328</td>\n",
       "      <td>0.002053</td>\n",
       "      <td>0.002738</td>\n",
       "      <td>0.002743</td>\n",
       "      <td>0.001330</td>\n",
       "      <td>-0.000367</td>\n",
       "      <td>-0.000722</td>\n",
       "      <td>-0.001904</td>\n",
       "      <td>-0.004294</td>\n",
       "      <td>-0.000025</td>\n",
       "      <td>0.005251</td>\n",
       "      <td>0.002490</td>\n",
       "      <td>0.000811</td>\n",
       "      <td>0.001166</td>\n",
       "      <td>-0.000693</td>\n",
       "      <td>-0.000077</td>\n",
       "      <td>0.000504</td>\n",
       "      <td>-0.000495</td>\n",
       "      <td>0.000156</td>\n",
       "      <td>0.000065</td>\n",
       "      <td>-0.000320</td>\n",
       "      <td>0.000185</td>\n",
       "      <td>-0.000375</td>\n",
       "      <td>-0.001013</td>\n",
       "      <td>-0.001611</td>\n",
       "      <td>-0.001765</td>\n",
       "      <td>-0.000636</td>\n",
       "      <td>0.001047</td>\n",
       "      <td>0.003019</td>\n",
       "      <td>0.001412</td>\n",
       "      <td>-0.001509</td>\n",
       "      <td>0.000060</td>\n",
       "      <td>0.000435</td>\n",
       "      <td>-0.000819</td>\n",
       "      <td>0.000228</td>\n",
       "      <td>-0.000300</td>\n",
       "      <td>-0.001147</td>\n",
       "      <td>-0.000222</td>\n",
       "      <td>0.001576</td>\n",
       "      <td>0.003531</td>\n",
       "      <td>0.002285</td>\n",
       "      <td>-0.000420</td>\n",
       "      <td>-0.003738</td>\n",
       "      <td>-0.006706</td>\n",
       "      <td>-0.003148</td>\n",
       "      <td>0.000733</td>\n",
       "      <td>0.000668</td>\n",
       "      <td>0.002162</td>\n",
       "      <td>-0.000946</td>\n",
       "      <td>-0.006476</td>\n",
       "      <td>-0.003423</td>\n",
       "      <td>-0.000610</td>\n",
       "      <td>-0.002929</td>\n",
       "      <td>-0.001796</td>\n",
       "      <td>0.000956</td>\n",
       "      <td>0.002311</td>\n",
       "      <td>0.002538</td>\n",
       "      <td>0.001180</td>\n",
       "      <td>0.001217</td>\n",
       "      <td>0.000869</td>\n",
       "      <td>0.000686</td>\n",
       "      <td>0.002156</td>\n",
       "      <td>0.000478</td>\n",
       "      <td>-0.001506</td>\n",
       "      <td>-0.002105</td>\n",
       "      <td>-0.001494</td>\n",
       "      <td>0.002181</td>\n",
       "      <td>0.002876</td>\n",
       "      <td>0.000871</td>\n",
       "      <td>-0.000392</td>\n",
       "      <td>-0.000569</td>\n",
       "      <td>0.000569</td>\n",
       "      <td>-0.001176</td>\n",
       "      <td>-0.001957</td>\n",
       "      <td>-0.000471</td>\n",
       "      <td>0.000208</td>\n",
       "      <td>0.003380</td>\n",
       "      <td>0.004829</td>\n",
       "      <td>0.003380</td>\n",
       "      <td>0.001088</td>\n",
       "      <td>-0.001249</td>\n",
       "      <td>0.000387</td>\n",
       "      <td>0.000533</td>\n",
       "      <td>-0.000679</td>\n",
       "      <td>0.000594</td>\n",
       "      <td>-0.000084</td>\n",
       "      <td>-0.000142</td>\n",
       "      <td>0.000784</td>\n",
       "      <td>0.001507</td>\n",
       "      <td>0.003386</td>\n",
       "      <td>0.002166</td>\n",
       "      <td>0.000422</td>\n",
       "      <td>0.000854</td>\n",
       "      <td>-0.000104</td>\n",
       "      <td>-0.000141</td>\n",
       "      <td>0.001333</td>\n",
       "      <td>0.001541</td>\n",
       "      <td>0.001077</td>\n",
       "      <td>-0.000736</td>\n",
       "      <td>-0.003767</td>\n",
       "      <td>-0.004646</td>\n",
       "      <td>-0.002941</td>\n",
       "      <td>-0.001599</td>\n",
       "    </tr>\n",
       "    <tr>\n",
       "      <th>2</th>\n",
       "      <td>0.003531</td>\n",
       "      <td>0.002285</td>\n",
       "      <td>-0.000420</td>\n",
       "      <td>-0.003738</td>\n",
       "      <td>-0.006706</td>\n",
       "      <td>-0.003148</td>\n",
       "      <td>0.000733</td>\n",
       "      <td>0.000668</td>\n",
       "      <td>0.002162</td>\n",
       "      <td>-0.000946</td>\n",
       "      <td>-0.006476</td>\n",
       "      <td>-0.003423</td>\n",
       "      <td>-0.000610</td>\n",
       "      <td>-0.002929</td>\n",
       "      <td>-0.001796</td>\n",
       "      <td>0.000956</td>\n",
       "      <td>0.002311</td>\n",
       "      <td>0.002538</td>\n",
       "      <td>0.001180</td>\n",
       "      <td>0.001217</td>\n",
       "      <td>0.000869</td>\n",
       "      <td>0.000686</td>\n",
       "      <td>0.002156</td>\n",
       "      <td>0.000478</td>\n",
       "      <td>-0.001506</td>\n",
       "      <td>-0.002105</td>\n",
       "      <td>-0.001494</td>\n",
       "      <td>0.002181</td>\n",
       "      <td>0.002876</td>\n",
       "      <td>0.000871</td>\n",
       "      <td>-0.000392</td>\n",
       "      <td>-0.000569</td>\n",
       "      <td>0.000569</td>\n",
       "      <td>-0.001176</td>\n",
       "      <td>-0.001957</td>\n",
       "      <td>-0.000471</td>\n",
       "      <td>0.000208</td>\n",
       "      <td>0.003380</td>\n",
       "      <td>0.004829</td>\n",
       "      <td>0.003380</td>\n",
       "      <td>0.001088</td>\n",
       "      <td>-0.001249</td>\n",
       "      <td>0.000387</td>\n",
       "      <td>0.000533</td>\n",
       "      <td>-0.000679</td>\n",
       "      <td>0.000594</td>\n",
       "      <td>-0.000084</td>\n",
       "      <td>-0.000142</td>\n",
       "      <td>0.000784</td>\n",
       "      <td>0.001507</td>\n",
       "      <td>0.003386</td>\n",
       "      <td>0.002166</td>\n",
       "      <td>0.000422</td>\n",
       "      <td>0.000854</td>\n",
       "      <td>-0.000104</td>\n",
       "      <td>-0.000141</td>\n",
       "      <td>0.001333</td>\n",
       "      <td>0.001541</td>\n",
       "      <td>0.001077</td>\n",
       "      <td>-0.000736</td>\n",
       "      <td>-0.003767</td>\n",
       "      <td>-0.004646</td>\n",
       "      <td>-0.002941</td>\n",
       "      <td>-0.001599</td>\n",
       "      <td>-0.001772</td>\n",
       "      <td>-0.001311</td>\n",
       "      <td>0.000388</td>\n",
       "      <td>0.000408</td>\n",
       "      <td>-0.000355</td>\n",
       "      <td>0.000998</td>\n",
       "      <td>0.001109</td>\n",
       "      <td>-0.003149</td>\n",
       "      <td>-0.008882</td>\n",
       "      <td>-0.010483</td>\n",
       "      <td>-0.004482</td>\n",
       "      <td>0.004528</td>\n",
       "      <td>0.008167</td>\n",
       "      <td>0.002929</td>\n",
       "      <td>-0.004487</td>\n",
       "      <td>-0.004717</td>\n",
       "      <td>-0.001637</td>\n",
       "      <td>-0.000097</td>\n",
       "      <td>0.001614</td>\n",
       "      <td>0.002619</td>\n",
       "      <td>0.004765</td>\n",
       "      <td>0.005851</td>\n",
       "      <td>0.002579</td>\n",
       "      <td>0.000677</td>\n",
       "      <td>0.002138</td>\n",
       "      <td>0.003519</td>\n",
       "      <td>0.002715</td>\n",
       "      <td>0.002370</td>\n",
       "      <td>0.003299</td>\n",
       "      <td>0.002357</td>\n",
       "      <td>0.001481</td>\n",
       "      <td>-0.000340</td>\n",
       "      <td>-0.002201</td>\n",
       "      <td>0.000124</td>\n",
       "      <td>0.002345</td>\n",
       "      <td>0.002706</td>\n",
       "      <td>0.001281</td>\n",
       "      <td>-0.000949</td>\n",
       "      <td>0.000890</td>\n",
       "      <td>0.004952</td>\n",
       "      <td>0.007315</td>\n",
       "      <td>0.004242</td>\n",
       "      <td>-0.002776</td>\n",
       "      <td>-0.004625</td>\n",
       "      <td>-0.001945</td>\n",
       "      <td>0.002561</td>\n",
       "      <td>0.007382</td>\n",
       "      <td>0.005730</td>\n",
       "      <td>0.002901</td>\n",
       "      <td>0.002896</td>\n",
       "      <td>0.000533</td>\n",
       "      <td>0.000552</td>\n",
       "      <td>0.001286</td>\n",
       "      <td>-0.000926</td>\n",
       "      <td>0.000661</td>\n",
       "      <td>0.001853</td>\n",
       "      <td>-0.000268</td>\n",
       "      <td>-0.000394</td>\n",
       "      <td>-0.000279</td>\n",
       "      <td>-0.000316</td>\n",
       "      <td>0.000144</td>\n",
       "      <td>0.001246</td>\n",
       "      <td>0.003117</td>\n",
       "      <td>0.002178</td>\n",
       "    </tr>\n",
       "    <tr>\n",
       "      <th>3</th>\n",
       "      <td>-0.001772</td>\n",
       "      <td>-0.001311</td>\n",
       "      <td>0.000388</td>\n",
       "      <td>0.000408</td>\n",
       "      <td>-0.000355</td>\n",
       "      <td>0.000998</td>\n",
       "      <td>0.001109</td>\n",
       "      <td>-0.003149</td>\n",
       "      <td>-0.008882</td>\n",
       "      <td>-0.010483</td>\n",
       "      <td>-0.004482</td>\n",
       "      <td>0.004528</td>\n",
       "      <td>0.008167</td>\n",
       "      <td>0.002929</td>\n",
       "      <td>-0.004487</td>\n",
       "      <td>-0.004717</td>\n",
       "      <td>-0.001637</td>\n",
       "      <td>-0.000097</td>\n",
       "      <td>0.001614</td>\n",
       "      <td>0.002619</td>\n",
       "      <td>0.004765</td>\n",
       "      <td>0.005851</td>\n",
       "      <td>0.002579</td>\n",
       "      <td>0.000677</td>\n",
       "      <td>0.002138</td>\n",
       "      <td>0.003519</td>\n",
       "      <td>0.002715</td>\n",
       "      <td>0.002370</td>\n",
       "      <td>0.003299</td>\n",
       "      <td>0.002357</td>\n",
       "      <td>0.001481</td>\n",
       "      <td>-0.000340</td>\n",
       "      <td>-0.002201</td>\n",
       "      <td>0.000124</td>\n",
       "      <td>0.002345</td>\n",
       "      <td>0.002706</td>\n",
       "      <td>0.001281</td>\n",
       "      <td>-0.000949</td>\n",
       "      <td>0.000890</td>\n",
       "      <td>0.004952</td>\n",
       "      <td>0.007315</td>\n",
       "      <td>0.004242</td>\n",
       "      <td>-0.002776</td>\n",
       "      <td>-0.004625</td>\n",
       "      <td>-0.001945</td>\n",
       "      <td>0.002561</td>\n",
       "      <td>0.007382</td>\n",
       "      <td>0.005730</td>\n",
       "      <td>0.002901</td>\n",
       "      <td>0.002896</td>\n",
       "      <td>0.000533</td>\n",
       "      <td>0.000552</td>\n",
       "      <td>0.001286</td>\n",
       "      <td>-0.000926</td>\n",
       "      <td>0.000661</td>\n",
       "      <td>0.001853</td>\n",
       "      <td>-0.000268</td>\n",
       "      <td>-0.000394</td>\n",
       "      <td>-0.000279</td>\n",
       "      <td>-0.000316</td>\n",
       "      <td>0.000144</td>\n",
       "      <td>0.001246</td>\n",
       "      <td>0.003117</td>\n",
       "      <td>0.002178</td>\n",
       "      <td>0.000087</td>\n",
       "      <td>-0.000272</td>\n",
       "      <td>0.001022</td>\n",
       "      <td>0.003126</td>\n",
       "      <td>0.002284</td>\n",
       "      <td>0.000885</td>\n",
       "      <td>0.001933</td>\n",
       "      <td>0.002270</td>\n",
       "      <td>0.002247</td>\n",
       "      <td>0.002175</td>\n",
       "      <td>0.001750</td>\n",
       "      <td>0.001420</td>\n",
       "      <td>0.000297</td>\n",
       "      <td>0.000665</td>\n",
       "      <td>0.001911</td>\n",
       "      <td>0.001778</td>\n",
       "      <td>0.001087</td>\n",
       "      <td>-0.000716</td>\n",
       "      <td>-0.001347</td>\n",
       "      <td>-0.000384</td>\n",
       "      <td>-0.000135</td>\n",
       "      <td>0.000666</td>\n",
       "      <td>0.000656</td>\n",
       "      <td>0.000221</td>\n",
       "      <td>0.001470</td>\n",
       "      <td>0.001644</td>\n",
       "      <td>-0.000106</td>\n",
       "      <td>-0.001683</td>\n",
       "      <td>-0.001165</td>\n",
       "      <td>0.000241</td>\n",
       "      <td>0.000216</td>\n",
       "      <td>-0.000102</td>\n",
       "      <td>-0.001546</td>\n",
       "      <td>-0.003518</td>\n",
       "      <td>-0.003204</td>\n",
       "      <td>-0.002376</td>\n",
       "      <td>-0.001825</td>\n",
       "      <td>-0.001754</td>\n",
       "      <td>-0.002504</td>\n",
       "      <td>-0.002612</td>\n",
       "      <td>-0.002715</td>\n",
       "      <td>-0.001748</td>\n",
       "      <td>0.000066</td>\n",
       "      <td>-0.000050</td>\n",
       "      <td>-0.000898</td>\n",
       "      <td>-0.001478</td>\n",
       "      <td>-0.000698</td>\n",
       "      <td>0.000441</td>\n",
       "      <td>-0.001206</td>\n",
       "      <td>-0.002607</td>\n",
       "      <td>-0.001986</td>\n",
       "      <td>-0.001230</td>\n",
       "      <td>-0.001129</td>\n",
       "      <td>-0.001334</td>\n",
       "      <td>0.000458</td>\n",
       "      <td>0.002103</td>\n",
       "      <td>0.001358</td>\n",
       "      <td>0.000820</td>\n",
       "      <td>-0.000212</td>\n",
       "      <td>-0.001915</td>\n",
       "      <td>-0.001631</td>\n",
       "      <td>-0.000867</td>\n",
       "      <td>-0.001172</td>\n",
       "      <td>-0.000028</td>\n",
       "    </tr>\n",
       "    <tr>\n",
       "      <th>4</th>\n",
       "      <td>0.000087</td>\n",
       "      <td>-0.000272</td>\n",
       "      <td>0.001022</td>\n",
       "      <td>0.003126</td>\n",
       "      <td>0.002284</td>\n",
       "      <td>0.000885</td>\n",
       "      <td>0.001933</td>\n",
       "      <td>0.002270</td>\n",
       "      <td>0.002247</td>\n",
       "      <td>0.002175</td>\n",
       "      <td>0.001750</td>\n",
       "      <td>0.001420</td>\n",
       "      <td>0.000297</td>\n",
       "      <td>0.000665</td>\n",
       "      <td>0.001911</td>\n",
       "      <td>0.001778</td>\n",
       "      <td>0.001087</td>\n",
       "      <td>-0.000716</td>\n",
       "      <td>-0.001347</td>\n",
       "      <td>-0.000384</td>\n",
       "      <td>-0.000135</td>\n",
       "      <td>0.000666</td>\n",
       "      <td>0.000656</td>\n",
       "      <td>0.000221</td>\n",
       "      <td>0.001470</td>\n",
       "      <td>0.001644</td>\n",
       "      <td>-0.000106</td>\n",
       "      <td>-0.001683</td>\n",
       "      <td>-0.001165</td>\n",
       "      <td>0.000241</td>\n",
       "      <td>0.000216</td>\n",
       "      <td>-0.000102</td>\n",
       "      <td>-0.001546</td>\n",
       "      <td>-0.003518</td>\n",
       "      <td>-0.003204</td>\n",
       "      <td>-0.002376</td>\n",
       "      <td>-0.001825</td>\n",
       "      <td>-0.001754</td>\n",
       "      <td>-0.002504</td>\n",
       "      <td>-0.002612</td>\n",
       "      <td>-0.002715</td>\n",
       "      <td>-0.001748</td>\n",
       "      <td>0.000066</td>\n",
       "      <td>-0.000050</td>\n",
       "      <td>-0.000898</td>\n",
       "      <td>-0.001478</td>\n",
       "      <td>-0.000698</td>\n",
       "      <td>0.000441</td>\n",
       "      <td>-0.001206</td>\n",
       "      <td>-0.002607</td>\n",
       "      <td>-0.001986</td>\n",
       "      <td>-0.001230</td>\n",
       "      <td>-0.001129</td>\n",
       "      <td>-0.001334</td>\n",
       "      <td>0.000458</td>\n",
       "      <td>0.002103</td>\n",
       "      <td>0.001358</td>\n",
       "      <td>0.000820</td>\n",
       "      <td>-0.000212</td>\n",
       "      <td>-0.001915</td>\n",
       "      <td>-0.001631</td>\n",
       "      <td>-0.000867</td>\n",
       "      <td>-0.001172</td>\n",
       "      <td>-0.000028</td>\n",
       "      <td>0.000525</td>\n",
       "      <td>-0.001863</td>\n",
       "      <td>-0.001510</td>\n",
       "      <td>0.001268</td>\n",
       "      <td>0.001541</td>\n",
       "      <td>0.000547</td>\n",
       "      <td>-0.001071</td>\n",
       "      <td>-0.001720</td>\n",
       "      <td>-0.000892</td>\n",
       "      <td>-0.001257</td>\n",
       "      <td>-0.001304</td>\n",
       "      <td>-0.000981</td>\n",
       "      <td>-0.001318</td>\n",
       "      <td>-0.001064</td>\n",
       "      <td>-0.000400</td>\n",
       "      <td>0.002377</td>\n",
       "      <td>0.005650</td>\n",
       "      <td>0.004639</td>\n",
       "      <td>0.001717</td>\n",
       "      <td>-0.002094</td>\n",
       "      <td>-0.006847</td>\n",
       "      <td>-0.005862</td>\n",
       "      <td>-0.002603</td>\n",
       "      <td>-0.003230</td>\n",
       "      <td>-0.001015</td>\n",
       "      <td>0.001832</td>\n",
       "      <td>0.001169</td>\n",
       "      <td>0.000362</td>\n",
       "      <td>-0.002587</td>\n",
       "      <td>-0.002581</td>\n",
       "      <td>0.001470</td>\n",
       "      <td>0.003026</td>\n",
       "      <td>0.003734</td>\n",
       "      <td>0.001870</td>\n",
       "      <td>-0.000212</td>\n",
       "      <td>0.000945</td>\n",
       "      <td>0.001956</td>\n",
       "      <td>0.002602</td>\n",
       "      <td>0.001366</td>\n",
       "      <td>0.000665</td>\n",
       "      <td>-0.000459</td>\n",
       "      <td>-0.004151</td>\n",
       "      <td>-0.003591</td>\n",
       "      <td>-0.001328</td>\n",
       "      <td>-0.000153</td>\n",
       "      <td>0.001043</td>\n",
       "      <td>0.000407</td>\n",
       "      <td>-0.000614</td>\n",
       "      <td>-0.002858</td>\n",
       "      <td>-0.003824</td>\n",
       "      <td>-0.001411</td>\n",
       "      <td>0.000765</td>\n",
       "      <td>0.001153</td>\n",
       "      <td>0.000627</td>\n",
       "      <td>0.002529</td>\n",
       "      <td>0.003518</td>\n",
       "      <td>-0.000248</td>\n",
       "      <td>-0.002761</td>\n",
       "      <td>0.000252</td>\n",
       "      <td>0.003752</td>\n",
       "      <td>0.001626</td>\n",
       "      <td>-0.000698</td>\n",
       "      <td>-0.001223</td>\n",
       "      <td>-0.003328</td>\n",
       "    </tr>\n",
       "  </tbody>\n",
       "</table>\n",
       "</div>"
      ],
      "text/plain": [
       "        0         1         2         3         4         5         6    \\\n",
       "0  0.000181  0.010139  0.009276  0.005066  0.010810  0.004045  0.004757   \n",
       "1  0.001094  0.004550  0.002879  0.002247  0.003305  0.002416  0.001619   \n",
       "2  0.003531  0.002285 -0.000420 -0.003738 -0.006706 -0.003148  0.000733   \n",
       "3 -0.001772 -0.001311  0.000388  0.000408 -0.000355  0.000998  0.001109   \n",
       "4  0.000087 -0.000272  0.001022  0.003126  0.002284  0.000885  0.001933   \n",
       "\n",
       "        7         8         9         10        11        12        13   \\\n",
       "0  0.006214  0.003307  0.007572  0.005407  0.006221  0.006895  0.004610   \n",
       "1  0.000981  0.000009 -0.000363 -0.000487 -0.000356 -0.000229 -0.000131   \n",
       "2  0.000668  0.002162 -0.000946 -0.006476 -0.003423 -0.000610 -0.002929   \n",
       "3 -0.003149 -0.008882 -0.010483 -0.004482  0.004528  0.008167  0.002929   \n",
       "4  0.002270  0.002247  0.002175  0.001750  0.001420  0.000297  0.000665   \n",
       "\n",
       "        14        15        16        17        18        19        20   \\\n",
       "0  0.007331  0.005078  0.005763  0.006693  0.005443  0.008241  0.006506   \n",
       "1 -0.000441 -0.001565 -0.000929  0.000009 -0.001236 -0.000911 -0.000435   \n",
       "2 -0.001796  0.000956  0.002311  0.002538  0.001180  0.001217  0.000869   \n",
       "3 -0.004487 -0.004717 -0.001637 -0.000097  0.001614  0.002619  0.004765   \n",
       "4  0.001911  0.001778  0.001087 -0.000716 -0.001347 -0.000384 -0.000135   \n",
       "\n",
       "        21        22        23        24        25        26        27   \\\n",
       "0  0.006532  0.007422  0.005772  0.006240  0.004623  0.004833  0.005499   \n",
       "1 -0.001177  0.000165  0.000751  0.000389  0.001328  0.002053  0.002738   \n",
       "2  0.000686  0.002156  0.000478 -0.001506 -0.002105 -0.001494  0.002181   \n",
       "3  0.005851  0.002579  0.000677  0.002138  0.003519  0.002715  0.002370   \n",
       "4  0.000666  0.000656  0.000221  0.001470  0.001644 -0.000106 -0.001683   \n",
       "\n",
       "        28        29        30        31        32        33        34   \\\n",
       "0  0.004341  0.005098  0.004269  0.003045  0.003204  0.004520  0.005127   \n",
       "1  0.002743  0.001330 -0.000367 -0.000722 -0.001904 -0.004294 -0.000025   \n",
       "2  0.002876  0.000871 -0.000392 -0.000569  0.000569 -0.001176 -0.001957   \n",
       "3  0.003299  0.002357  0.001481 -0.000340 -0.002201  0.000124  0.002345   \n",
       "4 -0.001165  0.000241  0.000216 -0.000102 -0.001546 -0.003518 -0.003204   \n",
       "\n",
       "        35        36        37        38        39        40        41   \\\n",
       "0  0.003550  0.004234  0.004469  0.003573  0.005136  0.005380  0.004409   \n",
       "1  0.005251  0.002490  0.000811  0.001166 -0.000693 -0.000077  0.000504   \n",
       "2 -0.000471  0.000208  0.003380  0.004829  0.003380  0.001088 -0.001249   \n",
       "3  0.002706  0.001281 -0.000949  0.000890  0.004952  0.007315  0.004242   \n",
       "4 -0.002376 -0.001825 -0.001754 -0.002504 -0.002612 -0.002715 -0.001748   \n",
       "\n",
       "        42        43        44        45        46        47        48   \\\n",
       "0  0.002244 -0.001184 -0.000680  0.002281  0.003654  0.002313 -0.000040   \n",
       "1 -0.000495  0.000156  0.000065 -0.000320  0.000185 -0.000375 -0.001013   \n",
       "2  0.000387  0.000533 -0.000679  0.000594 -0.000084 -0.000142  0.000784   \n",
       "3 -0.002776 -0.004625 -0.001945  0.002561  0.007382  0.005730  0.002901   \n",
       "4  0.000066 -0.000050 -0.000898 -0.001478 -0.000698  0.000441 -0.001206   \n",
       "\n",
       "        49        50        51        52        53        54        55   \\\n",
       "0  0.000534  0.002963  0.004399  0.002702  0.000345  0.002917  0.004979   \n",
       "1 -0.001611 -0.001765 -0.000636  0.001047  0.003019  0.001412 -0.001509   \n",
       "2  0.001507  0.003386  0.002166  0.000422  0.000854 -0.000104 -0.000141   \n",
       "3  0.002896  0.000533  0.000552  0.001286 -0.000926  0.000661  0.001853   \n",
       "4 -0.002607 -0.001986 -0.001230 -0.001129 -0.001334  0.000458  0.002103   \n",
       "\n",
       "        56        57        58        59        60        61        62   \\\n",
       "0  0.003447  0.004378  0.005006  0.001997 -0.000472 -0.000756 -0.001528   \n",
       "1  0.000060  0.000435 -0.000819  0.000228 -0.000300 -0.001147 -0.000222   \n",
       "2  0.001333  0.001541  0.001077 -0.000736 -0.003767 -0.004646 -0.002941   \n",
       "3 -0.000268 -0.000394 -0.000279 -0.000316  0.000144  0.001246  0.003117   \n",
       "4  0.001358  0.000820 -0.000212 -0.001915 -0.001631 -0.000867 -0.001172   \n",
       "\n",
       "        63        64        65        66        67        68        69   \\\n",
       "0 -0.002391  0.001094  0.004550  0.002879  0.002247  0.003305  0.002416   \n",
       "1  0.001576  0.003531  0.002285 -0.000420 -0.003738 -0.006706 -0.003148   \n",
       "2 -0.001599 -0.001772 -0.001311  0.000388  0.000408 -0.000355  0.000998   \n",
       "3  0.002178  0.000087 -0.000272  0.001022  0.003126  0.002284  0.000885   \n",
       "4 -0.000028  0.000525 -0.001863 -0.001510  0.001268  0.001541  0.000547   \n",
       "\n",
       "        70        71        72        73        74        75        76   \\\n",
       "0  0.001619  0.000981  0.000009 -0.000363 -0.000487 -0.000356 -0.000229   \n",
       "1  0.000733  0.000668  0.002162 -0.000946 -0.006476 -0.003423 -0.000610   \n",
       "2  0.001109 -0.003149 -0.008882 -0.010483 -0.004482  0.004528  0.008167   \n",
       "3  0.001933  0.002270  0.002247  0.002175  0.001750  0.001420  0.000297   \n",
       "4 -0.001071 -0.001720 -0.000892 -0.001257 -0.001304 -0.000981 -0.001318   \n",
       "\n",
       "        77        78        79        80        81        82        83   \\\n",
       "0 -0.000131 -0.000441 -0.001565 -0.000929  0.000009 -0.001236 -0.000911   \n",
       "1 -0.002929 -0.001796  0.000956  0.002311  0.002538  0.001180  0.001217   \n",
       "2  0.002929 -0.004487 -0.004717 -0.001637 -0.000097  0.001614  0.002619   \n",
       "3  0.000665  0.001911  0.001778  0.001087 -0.000716 -0.001347 -0.000384   \n",
       "4 -0.001064 -0.000400  0.002377  0.005650  0.004639  0.001717 -0.002094   \n",
       "\n",
       "        84        85        86        87        88        89        90   \\\n",
       "0 -0.000435 -0.001177  0.000165  0.000751  0.000389  0.001328  0.002053   \n",
       "1  0.000869  0.000686  0.002156  0.000478 -0.001506 -0.002105 -0.001494   \n",
       "2  0.004765  0.005851  0.002579  0.000677  0.002138  0.003519  0.002715   \n",
       "3 -0.000135  0.000666  0.000656  0.000221  0.001470  0.001644 -0.000106   \n",
       "4 -0.006847 -0.005862 -0.002603 -0.003230 -0.001015  0.001832  0.001169   \n",
       "\n",
       "        91        92        93        94        95        96        97   \\\n",
       "0  0.002738  0.002743  0.001330 -0.000367 -0.000722 -0.001904 -0.004294   \n",
       "1  0.002181  0.002876  0.000871 -0.000392 -0.000569  0.000569 -0.001176   \n",
       "2  0.002370  0.003299  0.002357  0.001481 -0.000340 -0.002201  0.000124   \n",
       "3 -0.001683 -0.001165  0.000241  0.000216 -0.000102 -0.001546 -0.003518   \n",
       "4  0.000362 -0.002587 -0.002581  0.001470  0.003026  0.003734  0.001870   \n",
       "\n",
       "        98        99        100       101       102       103       104  \\\n",
       "0 -0.000025  0.005251  0.002490  0.000811  0.001166 -0.000693 -0.000077   \n",
       "1 -0.001957 -0.000471  0.000208  0.003380  0.004829  0.003380  0.001088   \n",
       "2  0.002345  0.002706  0.001281 -0.000949  0.000890  0.004952  0.007315   \n",
       "3 -0.003204 -0.002376 -0.001825 -0.001754 -0.002504 -0.002612 -0.002715   \n",
       "4 -0.000212  0.000945  0.001956  0.002602  0.001366  0.000665 -0.000459   \n",
       "\n",
       "        105       106       107       108       109       110       111  \\\n",
       "0  0.000504 -0.000495  0.000156  0.000065 -0.000320  0.000185 -0.000375   \n",
       "1 -0.001249  0.000387  0.000533 -0.000679  0.000594 -0.000084 -0.000142   \n",
       "2  0.004242 -0.002776 -0.004625 -0.001945  0.002561  0.007382  0.005730   \n",
       "3 -0.001748  0.000066 -0.000050 -0.000898 -0.001478 -0.000698  0.000441   \n",
       "4 -0.004151 -0.003591 -0.001328 -0.000153  0.001043  0.000407 -0.000614   \n",
       "\n",
       "        112       113       114       115       116       117       118  \\\n",
       "0 -0.001013 -0.001611 -0.001765 -0.000636  0.001047  0.003019  0.001412   \n",
       "1  0.000784  0.001507  0.003386  0.002166  0.000422  0.000854 -0.000104   \n",
       "2  0.002901  0.002896  0.000533  0.000552  0.001286 -0.000926  0.000661   \n",
       "3 -0.001206 -0.002607 -0.001986 -0.001230 -0.001129 -0.001334  0.000458   \n",
       "4 -0.002858 -0.003824 -0.001411  0.000765  0.001153  0.000627  0.002529   \n",
       "\n",
       "        119       120       121       122       123       124       125  \\\n",
       "0 -0.001509  0.000060  0.000435 -0.000819  0.000228 -0.000300 -0.001147   \n",
       "1 -0.000141  0.001333  0.001541  0.001077 -0.000736 -0.003767 -0.004646   \n",
       "2  0.001853 -0.000268 -0.000394 -0.000279 -0.000316  0.000144  0.001246   \n",
       "3  0.002103  0.001358  0.000820 -0.000212 -0.001915 -0.001631 -0.000867   \n",
       "4  0.003518 -0.000248 -0.002761  0.000252  0.003752  0.001626 -0.000698   \n",
       "\n",
       "        126       127  \n",
       "0 -0.000222  0.001576  \n",
       "1 -0.002941 -0.001599  \n",
       "2  0.003117  0.002178  \n",
       "3 -0.001172 -0.000028  \n",
       "4 -0.001223 -0.003328  "
      ]
     },
     "execution_count": 8,
     "metadata": {},
     "output_type": "execute_result"
    }
   ],
   "source": [
    "X_train1.head()"
   ]
  },
  {
   "cell_type": "code",
   "execution_count": 115,
   "id": "fb3e53cf",
   "metadata": {},
   "outputs": [
    {
     "data": {
      "text/plain": [
       "{5: 1374, 4: 1286, 6: 1407, 1: 1226, 3: 986, 2: 1073}"
      ]
     },
     "execution_count": 115,
     "metadata": {},
     "output_type": "execute_result"
    }
   ],
   "source": [
    "dict(Counter(y_train1[0]))"
   ]
  },
  {
   "cell_type": "code",
   "execution_count": 10,
   "id": "5916b94c",
   "metadata": {},
   "outputs": [],
   "source": [
    "# X_train_file = r'C:\\Users\\80136730\\1dCNN\\HARDataset\\UCI HAR Dataset\\train\\Inertial Signals\\body_acc_x_train.txt' \n",
    "# there are 8 more\n",
    "# y_train_file = r'C:\\Users\\80136730\\1dCNN\\HARDataset\\UCI HAR Dataset\\train\\y_train.txt'\n",
    "\n",
    "# X_test_file = r'C:\\Users\\80136730\\1dCNN\\HARDataset\\UCI HAR Dataset\\test\\Inertial Signals\\body_acc_x_test.txt'  \n",
    "# there are 8 more\n",
    "# y_test_file = r'C:\\Users\\80136730\\1dCNN\\HARDataset\\UCI HAR Dataset\\test\\y_test.txt'\n",
    "\n",
    "def read_file(filepath):\n",
    "    return pd.read_csv(filepath, header=None, delim_whitespace=True).values\n",
    "\n",
    "def dstack_files(subset, filenames):\n",
    "    file_list = []\n",
    "    for name in filenames:\n",
    "        file = read_file(subset + name)\n",
    "        file_list.append(file)\n",
    "    return np.dstack(file_list)\n",
    "\n",
    "def load_group(dataset, group):\n",
    "    subset = dataset + group + '/Inertial Signals/'\n",
    "    filenames = ['body_acc_x_'+group+'.txt', 'body_acc_y_'+group+'.txt','body_acc_z_'+group+'.txt',\n",
    "                 'body_gyro_x_'+group+'.txt', 'body_gyro_y_'+group+'.txt','body_gyro_z_'+group+'.txt',\n",
    "                 'total_acc_x_'+group+'.txt', 'total_acc_y_'+group+'.txt','total_acc_z_'+group+'.txt']\n",
    "    X = dstack_files(subset, filenames)\n",
    "    y = read_file(dataset + group + '/y_' + group + '.txt')\n",
    "    return X, y\n",
    "\n",
    "def load_data(dataset=r'C:/Users/80136730/1dCNN/HARDataset/UCI HAR Dataset/'):\n",
    "    X_train, y_train = load_group(dataset, 'train')\n",
    "    X_test, y_test = load_group(dataset, 'test')\n",
    "    return X_train, y_train, X_test, y_test "
   ]
  },
  {
   "cell_type": "code",
   "execution_count": 73,
   "id": "9bd194c2",
   "metadata": {},
   "outputs": [],
   "source": [
    "Xtrain, ytrain, Xtest, ytest = load_data()"
   ]
  },
  {
   "cell_type": "code",
   "execution_count": 12,
   "id": "12b20efc",
   "metadata": {},
   "outputs": [
    {
     "data": {
      "text/plain": [
       "((7352, 128, 9), (7352, 1), (2947, 128, 9), (2947, 1))"
      ]
     },
     "execution_count": 12,
     "metadata": {},
     "output_type": "execute_result"
    }
   ],
   "source": [
    "Xtrain.shape, ytrain.shape, Xtest.shape, ytest.shape"
   ]
  },
  {
   "cell_type": "code",
   "execution_count": 13,
   "id": "4d8da6cb",
   "metadata": {},
   "outputs": [],
   "source": [
    "yt = np.ndarray.tolist(ytrain)"
   ]
  },
  {
   "cell_type": "code",
   "execution_count": 14,
   "id": "5c3cb945",
   "metadata": {},
   "outputs": [],
   "source": [
    "tl = [item for sublist in yt for item in sublist]"
   ]
  },
  {
   "cell_type": "code",
   "execution_count": 15,
   "id": "69dba5be",
   "metadata": {},
   "outputs": [
    {
     "data": {
      "text/plain": [
       "dict_items([(5, 1374), (4, 1286), (6, 1407), (1, 1226), (3, 986), (2, 1073)])"
      ]
     },
     "execution_count": 15,
     "metadata": {},
     "output_type": "execute_result"
    }
   ],
   "source": [
    "Counter(tl).items()"
   ]
  },
  {
   "cell_type": "code",
   "execution_count": 16,
   "id": "62516aa1",
   "metadata": {
    "scrolled": true
   },
   "outputs": [
    {
     "data": {
      "text/plain": [
       "128"
      ]
     },
     "execution_count": 16,
     "metadata": {},
     "output_type": "execute_result"
    }
   ],
   "source": [
    "len(Xtest[1])"
   ]
  },
  {
   "cell_type": "code",
   "execution_count": 17,
   "id": "478543bd",
   "metadata": {},
   "outputs": [
    {
     "data": {
      "text/plain": [
       "array([ 0.00492971,  0.01864973, -0.02688753,  0.1752221 , -0.09536355,\n",
       "        0.04334361,  0.9946787 , -0.2532142 ,  0.1256249 ])"
      ]
     },
     "execution_count": 17,
     "metadata": {},
     "output_type": "execute_result"
    }
   ],
   "source": [
    "Xtest[1][1]"
   ]
  },
  {
   "cell_type": "code",
   "execution_count": null,
   "id": "c16a5806",
   "metadata": {},
   "outputs": [],
   "source": []
  },
  {
   "cell_type": "code",
   "execution_count": 18,
   "id": "5a87a535",
   "metadata": {},
   "outputs": [],
   "source": [
    "# one hot encode y\n",
    "ytrain_hot = to_categorical(ytrain-1, num_classes=6)\n",
    "ytest_hot = to_categorical(ytest-1, num_classes=6)"
   ]
  },
  {
   "cell_type": "code",
   "execution_count": 19,
   "id": "fe1cb915",
   "metadata": {},
   "outputs": [
    {
     "data": {
      "text/plain": [
       "(7352, 6)"
      ]
     },
     "execution_count": 19,
     "metadata": {},
     "output_type": "execute_result"
    }
   ],
   "source": [
    "ytrain_hot.shape"
   ]
  },
  {
   "cell_type": "code",
   "execution_count": 20,
   "id": "61ab2c9e",
   "metadata": {},
   "outputs": [
    {
     "data": {
      "text/plain": [
       "array([0., 0., 0., 0., 1., 0.], dtype=float32)"
      ]
     },
     "execution_count": 20,
     "metadata": {},
     "output_type": "execute_result"
    }
   ],
   "source": [
    "ytrain_hot[1]"
   ]
  },
  {
   "cell_type": "code",
   "execution_count": 21,
   "id": "efe6e8a0",
   "metadata": {},
   "outputs": [],
   "source": [
    "# what are the input and output data shapes? \n",
    "n_timesteps, n_features, n_outputs = Xtrain.shape[1], Xtrain.shape[2], ytrain_hot.shape[1]"
   ]
  },
  {
   "cell_type": "code",
   "execution_count": 29,
   "id": "d7fec3ba",
   "metadata": {},
   "outputs": [],
   "source": [
    "# build CNN model\n",
    "cnn1d_model = Sequential()\n",
    "cnn1d_model.add(Conv1D(filters=64, kernel_size=3, activation='relu', input_shape=(n_timesteps,n_features)))\n",
    "cnn1d_model.add(Conv1D(filters=64, kernel_size=3, activation='relu'))\n",
    "cnn1d_model.add(Dropout(0.5))\n",
    "cnn1d_model.add(MaxPooling1D(pool_size=2))\n",
    "cnn1d_model.add(Flatten())\n",
    "cnn1d_model.add(Dense(100, activation='relu'))\n",
    "cnn1d_model.add(Dense(n_outputs, activation='softmax'))\n",
    "cnn1d_model.compile(loss='categorical_crossentropy', optimizer='adam', metrics=['accuracy'])"
   ]
  },
  {
   "cell_type": "code",
   "execution_count": null,
   "id": "e680a7e0",
   "metadata": {},
   "outputs": [],
   "source": []
  },
  {
   "cell_type": "code",
   "execution_count": 30,
   "id": "bf314c70",
   "metadata": {},
   "outputs": [],
   "source": [
    "from sklearn.model_selection import KFold\n",
    "X = np.array(np.random.randint(100, size=(12,2)))\n",
    "y = np.array(np.random.randint(100, size=(12,1)))"
   ]
  },
  {
   "cell_type": "code",
   "execution_count": 31,
   "id": "f2db253f",
   "metadata": {},
   "outputs": [
    {
     "name": "stdout",
     "output_type": "stream",
     "text": [
      "TRAIN: [ 3  4  5  6  7  8  9 10 11] TEST: [0 1 2]\n",
      "TRAIN: [ 0  1  2  6  7  8  9 10 11] TEST: [3 4 5]\n",
      "TRAIN: [ 0  1  2  3  4  5  9 10 11] TEST: [6 7 8]\n",
      "TRAIN: [0 1 2 3 4 5 6 7 8] TEST: [ 9 10 11]\n"
     ]
    }
   ],
   "source": [
    "kf = KFold(n_splits=4, random_state=None, shuffle=False)\n",
    "for train_index, test_index in kf.split(X):\n",
    "     print(\"TRAIN:\", train_index, \"TEST:\", test_index)\n",
    "     X_train, X_test = X[train_index], X[test_index]\n",
    "     y_train, y_test = y[train_index], y[test_index]"
   ]
  },
  {
   "cell_type": "code",
   "execution_count": 32,
   "id": "26956b2e",
   "metadata": {},
   "outputs": [
    {
     "name": "stdout",
     "output_type": "stream",
     "text": [
      "TRAIN: [ 0  3  4  5  6  7  8  9 10] TEST: [ 1  2 11]\n",
      "TRAIN: [ 0  1  2  4  5  6  7 10 11] TEST: [3 8 9]\n",
      "TRAIN: [ 0  1  2  3  4  5  8  9 11] TEST: [ 6  7 10]\n",
      "TRAIN: [ 1  2  3  6  7  8  9 10 11] TEST: [0 4 5]\n"
     ]
    }
   ],
   "source": [
    "kf = KFold(n_splits=4, random_state=22, shuffle=True)\n",
    "for train_index, test_index in kf.split(X):\n",
    "     print(\"TRAIN:\", train_index, \"TEST:\", test_index)"
   ]
  },
  {
   "cell_type": "code",
   "execution_count": 33,
   "id": "ab3d24ba",
   "metadata": {},
   "outputs": [],
   "source": [
    "def cross_validate(X, y, K = 5, epochs=6, batch_size=800, verbose=0):\n",
    "    scores = []\n",
    "    histories = []\n",
    "    for train, test in KFold(n_splits=K, shuffle=True).split(X,y):\n",
    "        model = cnn1d_model\n",
    "        #start = time()\n",
    "        histories.append(model.fit(X[train], y[train],\n",
    "                                   validation_data = (X[test],y[test]), # feed in the test data for plotting\n",
    "                                   epochs=epochs, batch_size=batch_size, verbose=verbose).history)\n",
    "        #print(time() - start)\n",
    "        scores.append(model.evaluate(X[test], y[test], verbose = 0)) # evaluate the test dataset\n",
    "#     print(\"average test loss: \", np.asarray(scores)[:,0].mean())\n",
    "#     print(\"average test accuracy: \", np.asarray(scores)[:,1].mean())\n",
    "#     print(model.summary())\n",
    "    return scores, histories"
   ]
  },
  {
   "cell_type": "code",
   "execution_count": 34,
   "id": "775e41e4",
   "metadata": {},
   "outputs": [],
   "source": [
    "cv_scores, cv_histories = cross_validate(Xtrain, ytrain_hot)"
   ]
  },
  {
   "cell_type": "code",
   "execution_count": 35,
   "id": "2a67b3d1",
   "metadata": {},
   "outputs": [
    {
     "data": {
      "text/plain": [
       "[{'val_loss': [0.8483071196735675,\n",
       "   0.5574123493511607,\n",
       "   0.4754732288040327,\n",
       "   0.3909912272467247,\n",
       "   0.3420329902303373,\n",
       "   0.29797778903100863],\n",
       "  'val_accuracy': [0.7382732629776001,\n",
       "   0.7756628394126892,\n",
       "   0.8178110122680664,\n",
       "   0.8749150037765503,\n",
       "   0.8932698965072632,\n",
       "   0.9082257151603699],\n",
       "  'loss': [1.307143007050848,\n",
       "   0.6317828530013369,\n",
       "   0.48375733622157074,\n",
       "   0.39502652261334603,\n",
       "   0.3167928968526295,\n",
       "   0.263614939084529],\n",
       "  'accuracy': [0.5169189,\n",
       "   0.7503826,\n",
       "   0.79153204,\n",
       "   0.8415235,\n",
       "   0.8794423,\n",
       "   0.9039279]},\n",
       " {'val_loss': [0.2239383214452816,\n",
       "   0.20878036820629192,\n",
       "   0.1867909654012592,\n",
       "   0.17000245338876907,\n",
       "   0.15560877468008966,\n",
       "   0.1443608938675199],\n",
       "  'val_accuracy': [0.9394969344139099,\n",
       "   0.9367777109146118,\n",
       "   0.9394969344139099,\n",
       "   0.9537729620933533,\n",
       "   0.9564921855926514,\n",
       "   0.9537729620933533],\n",
       "  'loss': [0.22670961859183253,\n",
       "   0.1885435205954432,\n",
       "   0.15949752496083847,\n",
       "   0.1441776501729038,\n",
       "   0.13238224521459233,\n",
       "   0.12360979207056433],\n",
       "  'accuracy': [0.91906136,\n",
       "   0.93079406,\n",
       "   0.94065636,\n",
       "   0.94677776,\n",
       "   0.94558746,\n",
       "   0.95204896]},\n",
       " {'val_loss': [0.1385543996176752,\n",
       "   0.13418209998786043,\n",
       "   0.12984734591172667,\n",
       "   0.12893287340799967,\n",
       "   0.12969195062205904,\n",
       "   0.1297551067102523],\n",
       "  'val_accuracy': [0.9510204195976257,\n",
       "   0.942176878452301,\n",
       "   0.9476190209388733,\n",
       "   0.9503401517868042,\n",
       "   0.9482993483543396,\n",
       "   0.9476190209388733],\n",
       "  'loss': [0.11818441020027791,\n",
       "   0.12190751244485966,\n",
       "   0.11919091469888499,\n",
       "   0.11939929825225601,\n",
       "   0.10962818134595083,\n",
       "   0.10554837743285884],\n",
       "  'accuracy': [0.95358723,\n",
       "   0.949847,\n",
       "   0.95273715,\n",
       "   0.949847,\n",
       "   0.95460725,\n",
       "   0.9549473]},\n",
       " {'val_loss': [0.11759970783173633,\n",
       "   0.11322265250139496,\n",
       "   0.11412862455155574,\n",
       "   0.11256258027488683,\n",
       "   0.10985989529056614,\n",
       "   0.1086303742260349],\n",
       "  'val_accuracy': [0.9551020264625549,\n",
       "   0.9537414908409119,\n",
       "   0.956462562084198,\n",
       "   0.9523809552192688,\n",
       "   0.9571428298950195,\n",
       "   0.9557822942733765],\n",
       "  'loss': [0.10664987668714244,\n",
       "   0.1048096629586077,\n",
       "   0.10189631631720111,\n",
       "   0.10067908494489122,\n",
       "   0.09871268577161836,\n",
       "   0.09747286091265084],\n",
       "  'accuracy': [0.95239717,\n",
       "   0.9566474,\n",
       "   0.95460725,\n",
       "   0.9534172,\n",
       "   0.95868754,\n",
       "   0.95596737]},\n",
       " {'val_loss': [0.10965856808383449,\n",
       "   0.10999694811243589,\n",
       "   0.11255489791534384,\n",
       "   0.1152366759622989,\n",
       "   0.10507823440696107,\n",
       "   0.1147795603895674],\n",
       "  'val_accuracy': [0.9530612230300903,\n",
       "   0.9544217586517334,\n",
       "   0.9442176818847656,\n",
       "   0.942176878452301,\n",
       "   0.9571428298950195,\n",
       "   0.961904764175415],\n",
       "  'loss': [0.09614127505772051,\n",
       "   0.09534760243336954,\n",
       "   0.09194198469145287,\n",
       "   0.09448625528358433,\n",
       "   0.09740052312683467,\n",
       "   0.09377848670844195],\n",
       "  'accuracy': [0.9585175,\n",
       "   0.9581775,\n",
       "   0.9598776,\n",
       "   0.95783746,\n",
       "   0.9566474,\n",
       "   0.9574975]}]"
      ]
     },
     "execution_count": 35,
     "metadata": {},
     "output_type": "execute_result"
    }
   ],
   "source": [
    "cv_histories"
   ]
  },
  {
   "cell_type": "code",
   "execution_count": 37,
   "id": "a3dd9190",
   "metadata": {
    "scrolled": true
   },
   "outputs": [
    {
     "data": {
      "text/plain": [
       "[[0.2979777770979237, 0.9082257151603699],\n",
       " [0.14436090317188194, 0.9537729620933533],\n",
       " [0.12975509883392425, 0.9476190209388733],\n",
       " [0.10863039183056578, 0.9557822942733765],\n",
       " [0.1147795648016289, 0.961904764175415]]"
      ]
     },
     "execution_count": 37,
     "metadata": {},
     "output_type": "execute_result"
    }
   ],
   "source": [
    "cv_scores"
   ]
  },
  {
   "cell_type": "code",
   "execution_count": 38,
   "id": "6205b8a1",
   "metadata": {},
   "outputs": [],
   "source": [
    "def plot_histories(histories, metrics = ['loss', 'val_loss', 'accuracy', 'val_accuracy']):\n",
    "    \n",
    "    fig, axes = plt.subplots(nrows = (len(metrics) - 1) // 2 + 1, ncols = 2, figsize = (16,16))\n",
    "    #axes = axes.reshape((len(metrics) - 1) // 2 + 1, 2)\n",
    "    for i,metric in enumerate(metrics):\n",
    "        for history in histories:\n",
    "            axes[(i+2)//2 - 1, 1 - (i+1)%2].plot(history[metric])\n",
    "            axes[(i+2)//2 - 1, 1 - (i+1)%2].legend([i for i in range(len(histories))])\n",
    "            axes[(i+2)//2 - 1, 1 - (i+1)%2].set_xticks(np.arange(len(history[metric])))\n",
    "            axes[(i+2)//2 - 1, 1 - (i+1)%2].set_xticklabels(1+np.arange(len(history[metric])))\n",
    "            axes[(i+2)//2 - 1, 1 - (i+1)%2].set_title(metric)"
   ]
  },
  {
   "cell_type": "code",
   "execution_count": 39,
   "id": "e1a06790",
   "metadata": {},
   "outputs": [
    {
     "data": {
      "image/png": "[encoded data removed]",
      "text/plain": [
       "<Figure size 1152x1152 with 4 Axes>"
      ]
     },
     "metadata": {
      "needs_background": "light"
     },
     "output_type": "display_data"
    }
   ],
   "source": [
    "plot_histories(cv_histories)"
   ]
  },
  {
   "cell_type": "code",
   "execution_count": 40,
   "id": "5ef3ad05",
   "metadata": {},
   "outputs": [],
   "source": [
    "scores = cnn1d_model.evaluate(Xtest, ytest_hot, verbose = 0)"
   ]
  },
  {
   "cell_type": "code",
   "execution_count": 41,
   "id": "7aca894f",
   "metadata": {},
   "outputs": [
    {
     "data": {
      "text/plain": [
       "['loss', 'accuracy']"
      ]
     },
     "execution_count": 41,
     "metadata": {},
     "output_type": "execute_result"
    }
   ],
   "source": [
    "cnn1d_model.metrics_names"
   ]
  },
  {
   "cell_type": "code",
   "execution_count": 42,
   "id": "0918fbc9",
   "metadata": {},
   "outputs": [
    {
     "data": {
      "text/plain": [
       "[0.39843922171142543, 0.9107567071914673]"
      ]
     },
     "execution_count": 42,
     "metadata": {},
     "output_type": "execute_result"
    }
   ],
   "source": [
    "scores"
   ]
  },
  {
   "cell_type": "code",
   "execution_count": null,
   "id": "3ce89f19",
   "metadata": {},
   "outputs": [],
   "source": []
  },
  {
   "cell_type": "code",
   "execution_count": 145,
   "id": "479e6a9a",
   "metadata": {},
   "outputs": [],
   "source": [
    "prediction = cnn1d_model.predict(Xtest) #make prediction with test data"
   ]
  },
  {
   "cell_type": "code",
   "execution_count": 45,
   "id": "e398c4d1",
   "metadata": {},
   "outputs": [
    {
     "data": {
      "text/plain": [
       "(array([4.4726813e-03, 1.5036205e-03, 3.4094464e-05, 4.6391990e-02,\n",
       "        9.4759345e-01, 4.2155380e-06], dtype=float32),\n",
       " array([0., 0., 0., 0., 1., 0.], dtype=float32))"
      ]
     },
     "execution_count": 45,
     "metadata": {},
     "output_type": "execute_result"
    }
   ],
   "source": [
    "prediction[1], ytest_hot[1]"
   ]
  },
  {
   "cell_type": "code",
   "execution_count": 147,
   "id": "756d27b1",
   "metadata": {},
   "outputs": [
    {
     "data": {
      "text/plain": [
       "((2947, 6), (2947, 6))"
      ]
     },
     "execution_count": 147,
     "metadata": {},
     "output_type": "execute_result"
    }
   ],
   "source": [
    "ytest_hot.shape, prediction.shape"
   ]
  },
  {
   "cell_type": "code",
   "execution_count": 148,
   "id": "d74fcdfa",
   "metadata": {},
   "outputs": [
    {
     "data": {
      "text/plain": [
       "(numpy.ndarray, numpy.ndarray)"
      ]
     },
     "execution_count": 148,
     "metadata": {},
     "output_type": "execute_result"
    }
   ],
   "source": [
    "type(prediction),type(ytest_hot)"
   ]
  },
  {
   "cell_type": "code",
   "execution_count": null,
   "id": "8d647576",
   "metadata": {},
   "outputs": [],
   "source": []
  },
  {
   "cell_type": "code",
   "execution_count": 149,
   "id": "3d1b4ec8",
   "metadata": {},
   "outputs": [],
   "source": [
    "pred_df = pd.DataFrame(prediction).idxmax(axis=1) #this reverse one-hot coding, yielding a series \n",
    "pred = pred_df.to_numpy() #convert series to one dimentional array"
   ]
  },
  {
   "cell_type": "code",
   "execution_count": 165,
   "id": "9051a50c",
   "metadata": {},
   "outputs": [
    {
     "data": {
      "text/plain": [
       "(pandas.core.series.Series, numpy.ndarray)"
      ]
     },
     "execution_count": 165,
     "metadata": {},
     "output_type": "execute_result"
    }
   ],
   "source": [
    "type(pred_df), type(pred)"
   ]
  },
  {
   "cell_type": "code",
   "execution_count": 151,
   "id": "ab273188",
   "metadata": {},
   "outputs": [
    {
     "data": {
      "text/plain": [
       "dict_items([(4, 490), (3, 503), (5, 510), (0, 481), (2, 461), (1, 502)])"
      ]
     },
     "execution_count": 151,
     "metadata": {},
     "output_type": "execute_result"
    }
   ],
   "source": [
    "Counter(pred_df).items() #Counter works on series or one dimentional array"
   ]
  },
  {
   "cell_type": "code",
   "execution_count": 155,
   "id": "cbf3d321",
   "metadata": {},
   "outputs": [
    {
     "data": {
      "text/plain": [
       "dict_items([(4, 490), (3, 503), (5, 510), (0, 481), (2, 461), (1, 502)])"
      ]
     },
     "execution_count": 155,
     "metadata": {},
     "output_type": "execute_result"
    }
   ],
   "source": [
    "Counter(pred).items() #Counter works on series or one dimentional array"
   ]
  },
  {
   "cell_type": "code",
   "execution_count": 166,
   "id": "8959055b",
   "metadata": {},
   "outputs": [
    {
     "ename": "TypeError",
     "evalue": "unhashable type: 'numpy.ndarray'",
     "output_type": "error",
     "traceback": [
      "\u001b[1;31m---------------------------------------------------------------------------\u001b[0m",
      "\u001b[1;31mTypeError\u001b[0m                                 Traceback (most recent call last)",
      "\u001b[1;32m<ipython-input-166-1895ec28b6e7>\u001b[0m in \u001b[0;36m<module>\u001b[1;34m\u001b[0m\n\u001b[1;32m----> 1\u001b[1;33m \u001b[0mCounter\u001b[0m\u001b[1;33m(\u001b[0m\u001b[0mprediction\u001b[0m\u001b[1;33m)\u001b[0m\u001b[1;33m.\u001b[0m\u001b[0mitems\u001b[0m\u001b[1;33m(\u001b[0m\u001b[1;33m)\u001b[0m \u001b[1;31m#Counter works on series or array\u001b[0m\u001b[1;33m\u001b[0m\u001b[1;33m\u001b[0m\u001b[0m\n\u001b[0m",
      "\u001b[1;32m~\\Anaconda3\\envs\\Deep\\lib\\collections\\__init__.py\u001b[0m in \u001b[0;36m__init__\u001b[1;34m(*args, **kwds)\u001b[0m\n\u001b[0;32m    533\u001b[0m             \u001b[1;32mraise\u001b[0m \u001b[0mTypeError\u001b[0m\u001b[1;33m(\u001b[0m\u001b[1;34m'expected at most 1 arguments, got %d'\u001b[0m \u001b[1;33m%\u001b[0m \u001b[0mlen\u001b[0m\u001b[1;33m(\u001b[0m\u001b[0margs\u001b[0m\u001b[1;33m)\u001b[0m\u001b[1;33m)\u001b[0m\u001b[1;33m\u001b[0m\u001b[1;33m\u001b[0m\u001b[0m\n\u001b[0;32m    534\u001b[0m         \u001b[0msuper\u001b[0m\u001b[1;33m(\u001b[0m\u001b[0mCounter\u001b[0m\u001b[1;33m,\u001b[0m \u001b[0mself\u001b[0m\u001b[1;33m)\u001b[0m\u001b[1;33m.\u001b[0m\u001b[0m__init__\u001b[0m\u001b[1;33m(\u001b[0m\u001b[1;33m)\u001b[0m\u001b[1;33m\u001b[0m\u001b[1;33m\u001b[0m\u001b[0m\n\u001b[1;32m--> 535\u001b[1;33m         \u001b[0mself\u001b[0m\u001b[1;33m.\u001b[0m\u001b[0mupdate\u001b[0m\u001b[1;33m(\u001b[0m\u001b[1;33m*\u001b[0m\u001b[0margs\u001b[0m\u001b[1;33m,\u001b[0m \u001b[1;33m**\u001b[0m\u001b[0mkwds\u001b[0m\u001b[1;33m)\u001b[0m\u001b[1;33m\u001b[0m\u001b[1;33m\u001b[0m\u001b[0m\n\u001b[0m\u001b[0;32m    536\u001b[0m \u001b[1;33m\u001b[0m\u001b[0m\n\u001b[0;32m    537\u001b[0m     \u001b[1;32mdef\u001b[0m \u001b[0m__missing__\u001b[0m\u001b[1;33m(\u001b[0m\u001b[0mself\u001b[0m\u001b[1;33m,\u001b[0m \u001b[0mkey\u001b[0m\u001b[1;33m)\u001b[0m\u001b[1;33m:\u001b[0m\u001b[1;33m\u001b[0m\u001b[1;33m\u001b[0m\u001b[0m\n",
      "\u001b[1;32m~\\Anaconda3\\envs\\Deep\\lib\\collections\\__init__.py\u001b[0m in \u001b[0;36mupdate\u001b[1;34m(*args, **kwds)\u001b[0m\n\u001b[0;32m    620\u001b[0m                     \u001b[0msuper\u001b[0m\u001b[1;33m(\u001b[0m\u001b[0mCounter\u001b[0m\u001b[1;33m,\u001b[0m \u001b[0mself\u001b[0m\u001b[1;33m)\u001b[0m\u001b[1;33m.\u001b[0m\u001b[0mupdate\u001b[0m\u001b[1;33m(\u001b[0m\u001b[0miterable\u001b[0m\u001b[1;33m)\u001b[0m \u001b[1;31m# fast path when counter is empty\u001b[0m\u001b[1;33m\u001b[0m\u001b[1;33m\u001b[0m\u001b[0m\n\u001b[0;32m    621\u001b[0m             \u001b[1;32melse\u001b[0m\u001b[1;33m:\u001b[0m\u001b[1;33m\u001b[0m\u001b[1;33m\u001b[0m\u001b[0m\n\u001b[1;32m--> 622\u001b[1;33m                 \u001b[0m_count_elements\u001b[0m\u001b[1;33m(\u001b[0m\u001b[0mself\u001b[0m\u001b[1;33m,\u001b[0m \u001b[0miterable\u001b[0m\u001b[1;33m)\u001b[0m\u001b[1;33m\u001b[0m\u001b[1;33m\u001b[0m\u001b[0m\n\u001b[0m\u001b[0;32m    623\u001b[0m         \u001b[1;32mif\u001b[0m \u001b[0mkwds\u001b[0m\u001b[1;33m:\u001b[0m\u001b[1;33m\u001b[0m\u001b[1;33m\u001b[0m\u001b[0m\n\u001b[0;32m    624\u001b[0m             \u001b[0mself\u001b[0m\u001b[1;33m.\u001b[0m\u001b[0mupdate\u001b[0m\u001b[1;33m(\u001b[0m\u001b[0mkwds\u001b[0m\u001b[1;33m)\u001b[0m\u001b[1;33m\u001b[0m\u001b[1;33m\u001b[0m\u001b[0m\n",
      "\u001b[1;31mTypeError\u001b[0m: unhashable type: 'numpy.ndarray'"
     ]
    }
   ],
   "source": [
    "Counter(prediction).items() #Counter does not works on ndarray with more than 1 d"
   ]
  },
  {
   "cell_type": "code",
   "execution_count": null,
   "id": "d716ad61",
   "metadata": {},
   "outputs": [],
   "source": []
  },
  {
   "cell_type": "code",
   "execution_count": 157,
   "id": "22164296",
   "metadata": {},
   "outputs": [],
   "source": [
    "ytest_df = pd.DataFrame(ytest) #ytest is also ndarray with >1 d, it converts to a df with multiple rows and one column"
   ]
  },
  {
   "cell_type": "code",
   "execution_count": 163,
   "id": "20aa1a3a",
   "metadata": {},
   "outputs": [
    {
     "data": {
      "text/plain": [
       "pandas.core.frame.DataFrame"
      ]
     },
     "execution_count": 163,
     "metadata": {},
     "output_type": "execute_result"
    }
   ],
   "source": [
    "type(ytest_df)"
   ]
  },
  {
   "cell_type": "code",
   "execution_count": 164,
   "id": "de65b4e1",
   "metadata": {
    "scrolled": true
   },
   "outputs": [
    {
     "data": {
      "text/plain": [
       "dict_items([(5, 532), (4, 491), (6, 537), (1, 496), (3, 420), (2, 471)])"
      ]
     },
     "execution_count": 164,
     "metadata": {},
     "output_type": "execute_result"
    }
   ],
   "source": [
    "Counter(ytest_df[0]).items() #counter works with series or a df column"
   ]
  },
  {
   "cell_type": "code",
   "execution_count": null,
   "id": "0fe971ef",
   "metadata": {},
   "outputs": [],
   "source": []
  },
  {
   "cell_type": "code",
   "execution_count": 81,
   "id": "c3df5519",
   "metadata": {},
   "outputs": [],
   "source": [
    "predictions.columns = ['Predictions']"
   ]
  },
  {
   "cell_type": "code",
   "execution_count": 93,
   "id": "83729676",
   "metadata": {},
   "outputs": [
    {
     "data": {
      "text/plain": [
       "(1, 6, numpy.ndarray)"
      ]
     },
     "execution_count": 93,
     "metadata": {},
     "output_type": "execute_result"
    }
   ],
   "source": [
    "ytest.min(), ytest.max(), type(ytest)"
   ]
  },
  {
   "cell_type": "code",
   "execution_count": 98,
   "id": "1ee88dee",
   "metadata": {},
   "outputs": [],
   "source": [
    "targets = pd.DataFrame(ytest-1)\n",
    "targets.columns = ['Targets']"
   ]
  },
  {
   "cell_type": "code",
   "execution_count": 123,
   "id": "6ac450ae",
   "metadata": {
    "scrolled": true
   },
   "outputs": [
    {
     "data": {
      "text/plain": [
       "dict_keys([4, 3, 5, 0, 2, 1])"
      ]
     },
     "execution_count": 123,
     "metadata": {},
     "output_type": "execute_result"
    }
   ],
   "source": [
    "Counter(targets['Targets']).keys()"
   ]
  },
  {
   "cell_type": "code",
   "execution_count": null,
   "id": "b2e71d99",
   "metadata": {},
   "outputs": [],
   "source": []
  },
  {
   "cell_type": "code",
   "execution_count": null,
   "id": "7ac4dec9",
   "metadata": {},
   "outputs": [],
   "source": []
  },
  {
   "cell_type": "code",
   "execution_count": null,
   "id": "c971d0eb",
   "metadata": {},
   "outputs": [],
   "source": []
  },
  {
   "cell_type": "code",
   "execution_count": 169,
   "id": "4cb84f0e",
   "metadata": {},
   "outputs": [
    {
     "data": {
      "text/plain": [
       "<AxesSubplot:>"
      ]
     },
     "execution_count": 169,
     "metadata": {},
     "output_type": "execute_result"
    },
    {
     "data": {
      "image/png": "[encoded data removed]",
      "text/plain": [
       "<Figure size 432x288 with 2 Axes>"
      ]
     },
     "metadata": {
      "needs_background": "light"
     },
     "output_type": "display_data"
    }
   ],
   "source": [
    "from sklearn.metrics import confusion_matrix\n",
    "import seaborn as sns\n",
    "cf_matrix = confusion_matrix(ytest_df[0], pred)\n",
    "sns.heatmap(cf_matrix, annot=True, fmt='d', cmap='Blues')"
   ]
  },
  {
   "cell_type": "code",
   "execution_count": null,
   "id": "ebb1747c",
   "metadata": {},
   "outputs": [],
   "source": []
  },
  {
   "cell_type": "code",
   "execution_count": null,
   "id": "6568ab42",
   "metadata": {},
   "outputs": [],
   "source": []
  },
  {
   "cell_type": "code",
   "execution_count": null,
   "id": "b2a85888",
   "metadata": {},
   "outputs": [],
   "source": []
  },
  {
   "cell_type": "code",
   "execution_count": null,
   "id": "3171be34",
   "metadata": {},
   "outputs": [],
   "source": []
  },
  {
   "cell_type": "code",
   "execution_count": null,
   "id": "e602c04b",
   "metadata": {},
   "outputs": [],
   "source": []
  },
  {
   "cell_type": "code",
   "execution_count": null,
   "id": "a1683472",
   "metadata": {},
   "outputs": [],
   "source": []
  },
  {
   "cell_type": "code",
   "execution_count": null,
   "id": "7f6c7bd0",
   "metadata": {},
   "outputs": [],
   "source": []
  },
  {
   "cell_type": "code",
   "execution_count": null,
   "id": "e44bd200",
   "metadata": {},
   "outputs": [],
   "source": []
  }
 ],
 "metadata": {
  "kernelspec": {
   "display_name": "Deep",
   "language": "python",
   "name": "deep"
  },
  "language_info": {
   "codemirror_mode": {
    "name": "ipython",
    "version": 3
   },
   "file_extension": ".py",
   "mimetype": "text/x-python",
   "name": "python",
   "nbconvert_exporter": "python",
   "pygments_lexer": "ipython3",
   "version": "3.6.13"
  }
 },
 "nbformat": 4,
 "nbformat_minor": 5
}
