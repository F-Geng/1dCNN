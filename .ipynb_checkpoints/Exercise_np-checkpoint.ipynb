{
 "cells": [
  {
   "cell_type": "code",
   "execution_count": 3,
   "id": "4f98e737",
   "metadata": {},
   "outputs": [],
   "source": [
    "import numpy as np\n",
    "import pandas as pd\n",
    "import matplotlib.pyplot as plt\n",
    "from collections import Counter\n",
    "\n",
    "from sklearn.model_selection import KFold"
   ]
  },
  {
   "cell_type": "code",
   "execution_count": 65,
   "id": "4b674ff8",
   "metadata": {},
   "outputs": [],
   "source": [
    "pd.set_option('display.max_rows', 20)\n",
    "pd.set_option('display.max_columns', None)"
   ]
  },
  {
   "cell_type": "code",
   "execution_count": 5,
   "id": "8a774870",
   "metadata": {},
   "outputs": [],
   "source": [
    "# Load data from https://archive.ics.uci.edu/ml/machine-learning-databases/00240/UCI%20HAR%20Dataset.zip\n",
    "# and unzip all files into a new “HARDataset”directory in current working directory. "
   ]
  },
  {
   "cell_type": "code",
   "execution_count": 6,
   "id": "a1c495a2",
   "metadata": {},
   "outputs": [],
   "source": [
    "# In the \"train\" data folder, there are \n",
    "# 9 files recording 9 measurements in \"Inertial Signals\" folder, these are predictor data (independant variables), shape (7352 x 128);\n",
    "# and 1 y_train file, this is the target (dependant variables), shape (7352 x 1).\n",
    "\n",
    "# Similar with \"test\" data folder.\n",
    "\n",
    "# Let's read one training file and one testing file and have a quick look:\n",
    "\n",
    "X_train_file = r'C:\\Users\\80136730\\1dCNN\\HARDataset\\UCI HAR Dataset\\train\\Inertial Signals\\body_acc_x_train.txt' #there are 8 more\n",
    "y_train_file = r'C:\\Users\\80136730\\1dCNN\\HARDataset\\UCI HAR Dataset\\train\\y_train.txt'\n",
    "X_test_file = r'C:\\Users\\80136730\\1dCNN\\HARDataset\\UCI HAR Dataset\\test\\Inertial Signals\\body_acc_x_test.txt'  #there are 8 more\n",
    "y_test_file = r'C:\\Users\\80136730\\1dCNN\\HARDataset\\UCI HAR Dataset\\test\\y_test.txt'"
   ]
  },
  {
   "cell_type": "code",
   "execution_count": 7,
   "id": "4e1ca310",
   "metadata": {},
   "outputs": [],
   "source": [
    "X_train1 = pd.read_csv(X_train_file, header=None, delim_whitespace=True)\n",
    "y_train1 = pd.read_csv(y_train_file, header=None, delim_whitespace=True)"
   ]
  },
  {
   "cell_type": "code",
   "execution_count": 9,
   "id": "6983cd2b",
   "metadata": {},
   "outputs": [
    {
     "data": {
      "text/plain": [
       "((7352, 128), (7352, 1))"
      ]
     },
     "execution_count": 9,
     "metadata": {},
     "output_type": "execute_result"
    }
   ],
   "source": [
    "X_train1.shape, y_train1.shape"
   ]
  },
  {
   "cell_type": "code",
   "execution_count": 11,
   "id": "2f006e46",
   "metadata": {
    "scrolled": false
   },
   "outputs": [
    {
     "data": {
      "text/html": [
       "<div>\n",
       "<style scoped>\n",
       "    .dataframe tbody tr th:only-of-type {\n",
       "        vertical-align: middle;\n",
       "    }\n",
       "\n",
       "    .dataframe tbody tr th {\n",
       "        vertical-align: top;\n",
       "    }\n",
       "\n",
       "    .dataframe thead th {\n",
       "        text-align: right;\n",
       "    }\n",
       "</style>\n",
       "<table border=\"1\" class=\"dataframe\">\n",
       "  <thead>\n",
       "    <tr style=\"text-align: right;\">\n",
       "      <th></th>\n",
       "      <th>0</th>\n",
       "      <th>1</th>\n",
       "      <th>2</th>\n",
       "      <th>3</th>\n",
       "      <th>4</th>\n",
       "      <th>5</th>\n",
       "      <th>6</th>\n",
       "      <th>7</th>\n",
       "      <th>8</th>\n",
       "      <th>9</th>\n",
       "      <th>...</th>\n",
       "      <th>118</th>\n",
       "      <th>119</th>\n",
       "      <th>120</th>\n",
       "      <th>121</th>\n",
       "      <th>122</th>\n",
       "      <th>123</th>\n",
       "      <th>124</th>\n",
       "      <th>125</th>\n",
       "      <th>126</th>\n",
       "      <th>127</th>\n",
       "    </tr>\n",
       "  </thead>\n",
       "  <tbody>\n",
       "    <tr>\n",
       "      <th>0</th>\n",
       "      <td>0.000181</td>\n",
       "      <td>0.010139</td>\n",
       "      <td>0.009276</td>\n",
       "      <td>0.005066</td>\n",
       "      <td>0.010810</td>\n",
       "      <td>0.004045</td>\n",
       "      <td>0.004757</td>\n",
       "      <td>0.006214</td>\n",
       "      <td>0.003307</td>\n",
       "      <td>0.007572</td>\n",
       "      <td>...</td>\n",
       "      <td>0.001412</td>\n",
       "      <td>-0.001509</td>\n",
       "      <td>0.000060</td>\n",
       "      <td>0.000435</td>\n",
       "      <td>-0.000819</td>\n",
       "      <td>0.000228</td>\n",
       "      <td>-0.000300</td>\n",
       "      <td>-0.001147</td>\n",
       "      <td>-0.000222</td>\n",
       "      <td>0.001576</td>\n",
       "    </tr>\n",
       "    <tr>\n",
       "      <th>1</th>\n",
       "      <td>0.001094</td>\n",
       "      <td>0.004550</td>\n",
       "      <td>0.002879</td>\n",
       "      <td>0.002247</td>\n",
       "      <td>0.003305</td>\n",
       "      <td>0.002416</td>\n",
       "      <td>0.001619</td>\n",
       "      <td>0.000981</td>\n",
       "      <td>0.000009</td>\n",
       "      <td>-0.000363</td>\n",
       "      <td>...</td>\n",
       "      <td>-0.000104</td>\n",
       "      <td>-0.000141</td>\n",
       "      <td>0.001333</td>\n",
       "      <td>0.001541</td>\n",
       "      <td>0.001077</td>\n",
       "      <td>-0.000736</td>\n",
       "      <td>-0.003767</td>\n",
       "      <td>-0.004646</td>\n",
       "      <td>-0.002941</td>\n",
       "      <td>-0.001599</td>\n",
       "    </tr>\n",
       "    <tr>\n",
       "      <th>2</th>\n",
       "      <td>0.003531</td>\n",
       "      <td>0.002285</td>\n",
       "      <td>-0.000420</td>\n",
       "      <td>-0.003738</td>\n",
       "      <td>-0.006706</td>\n",
       "      <td>-0.003148</td>\n",
       "      <td>0.000733</td>\n",
       "      <td>0.000668</td>\n",
       "      <td>0.002162</td>\n",
       "      <td>-0.000946</td>\n",
       "      <td>...</td>\n",
       "      <td>0.000661</td>\n",
       "      <td>0.001853</td>\n",
       "      <td>-0.000268</td>\n",
       "      <td>-0.000394</td>\n",
       "      <td>-0.000279</td>\n",
       "      <td>-0.000316</td>\n",
       "      <td>0.000144</td>\n",
       "      <td>0.001246</td>\n",
       "      <td>0.003117</td>\n",
       "      <td>0.002178</td>\n",
       "    </tr>\n",
       "    <tr>\n",
       "      <th>3</th>\n",
       "      <td>-0.001772</td>\n",
       "      <td>-0.001311</td>\n",
       "      <td>0.000388</td>\n",
       "      <td>0.000408</td>\n",
       "      <td>-0.000355</td>\n",
       "      <td>0.000998</td>\n",
       "      <td>0.001109</td>\n",
       "      <td>-0.003149</td>\n",
       "      <td>-0.008882</td>\n",
       "      <td>-0.010483</td>\n",
       "      <td>...</td>\n",
       "      <td>0.000458</td>\n",
       "      <td>0.002103</td>\n",
       "      <td>0.001358</td>\n",
       "      <td>0.000820</td>\n",
       "      <td>-0.000212</td>\n",
       "      <td>-0.001915</td>\n",
       "      <td>-0.001631</td>\n",
       "      <td>-0.000867</td>\n",
       "      <td>-0.001172</td>\n",
       "      <td>-0.000028</td>\n",
       "    </tr>\n",
       "    <tr>\n",
       "      <th>4</th>\n",
       "      <td>0.000087</td>\n",
       "      <td>-0.000272</td>\n",
       "      <td>0.001022</td>\n",
       "      <td>0.003126</td>\n",
       "      <td>0.002284</td>\n",
       "      <td>0.000885</td>\n",
       "      <td>0.001933</td>\n",
       "      <td>0.002270</td>\n",
       "      <td>0.002247</td>\n",
       "      <td>0.002175</td>\n",
       "      <td>...</td>\n",
       "      <td>0.002529</td>\n",
       "      <td>0.003518</td>\n",
       "      <td>-0.000248</td>\n",
       "      <td>-0.002761</td>\n",
       "      <td>0.000252</td>\n",
       "      <td>0.003752</td>\n",
       "      <td>0.001626</td>\n",
       "      <td>-0.000698</td>\n",
       "      <td>-0.001223</td>\n",
       "      <td>-0.003328</td>\n",
       "    </tr>\n",
       "  </tbody>\n",
       "</table>\n",
       "<p>5 rows × 128 columns</p>\n",
       "</div>"
      ],
      "text/plain": [
       "        0         1         2         3         4         5         6    \\\n",
       "0  0.000181  0.010139  0.009276  0.005066  0.010810  0.004045  0.004757   \n",
       "1  0.001094  0.004550  0.002879  0.002247  0.003305  0.002416  0.001619   \n",
       "2  0.003531  0.002285 -0.000420 -0.003738 -0.006706 -0.003148  0.000733   \n",
       "3 -0.001772 -0.001311  0.000388  0.000408 -0.000355  0.000998  0.001109   \n",
       "4  0.000087 -0.000272  0.001022  0.003126  0.002284  0.000885  0.001933   \n",
       "\n",
       "        7         8         9    ...       118       119       120       121  \\\n",
       "0  0.006214  0.003307  0.007572  ...  0.001412 -0.001509  0.000060  0.000435   \n",
       "1  0.000981  0.000009 -0.000363  ... -0.000104 -0.000141  0.001333  0.001541   \n",
       "2  0.000668  0.002162 -0.000946  ...  0.000661  0.001853 -0.000268 -0.000394   \n",
       "3 -0.003149 -0.008882 -0.010483  ...  0.000458  0.002103  0.001358  0.000820   \n",
       "4  0.002270  0.002247  0.002175  ...  0.002529  0.003518 -0.000248 -0.002761   \n",
       "\n",
       "        122       123       124       125       126       127  \n",
       "0 -0.000819  0.000228 -0.000300 -0.001147 -0.000222  0.001576  \n",
       "1  0.001077 -0.000736 -0.003767 -0.004646 -0.002941 -0.001599  \n",
       "2 -0.000279 -0.000316  0.000144  0.001246  0.003117  0.002178  \n",
       "3 -0.000212 -0.001915 -0.001631 -0.000867 -0.001172 -0.000028  \n",
       "4  0.000252  0.003752  0.001626 -0.000698 -0.001223 -0.003328  \n",
       "\n",
       "[5 rows x 128 columns]"
      ]
     },
     "execution_count": 11,
     "metadata": {},
     "output_type": "execute_result"
    }
   ],
   "source": [
    "X_train1.head()"
   ]
  },
  {
   "cell_type": "code",
   "execution_count": 27,
   "id": "fb3e53cf",
   "metadata": {},
   "outputs": [
    {
     "name": "stdout",
     "output_type": "stream",
     "text": [
      "1 1226\n",
      "2 1073\n",
      "3 986\n",
      "4 1286\n",
      "5 1374\n",
      "6 1407\n"
     ]
    }
   ],
   "source": [
    "count = dict(Counter(y_train1[0]))\n",
    "for key, value in sorted(count.items()):\n",
    "    print (key, value) "
   ]
  },
  {
   "cell_type": "code",
   "execution_count": 28,
   "id": "0f14c40c",
   "metadata": {},
   "outputs": [
    {
     "data": {
      "text/plain": [
       "{5: 1374, 4: 1286, 6: 1407, 1: 1226, 3: 986, 2: 1073}"
      ]
     },
     "execution_count": 28,
     "metadata": {},
     "output_type": "execute_result"
    }
   ],
   "source": [
    "count"
   ]
  },
  {
   "cell_type": "code",
   "execution_count": 29,
   "id": "176cf178",
   "metadata": {},
   "outputs": [],
   "source": [
    "my_array = np.random.randint(10, size=(3,4))"
   ]
  },
  {
   "cell_type": "code",
   "execution_count": 30,
   "id": "92b757fa",
   "metadata": {},
   "outputs": [],
   "source": [
    "my_df = pd.DataFrame(my_array)"
   ]
  },
  {
   "cell_type": "code",
   "execution_count": 31,
   "id": "66b55caa",
   "metadata": {},
   "outputs": [
    {
     "data": {
      "text/html": [
       "<div>\n",
       "<style scoped>\n",
       "    .dataframe tbody tr th:only-of-type {\n",
       "        vertical-align: middle;\n",
       "    }\n",
       "\n",
       "    .dataframe tbody tr th {\n",
       "        vertical-align: top;\n",
       "    }\n",
       "\n",
       "    .dataframe thead th {\n",
       "        text-align: right;\n",
       "    }\n",
       "</style>\n",
       "<table border=\"1\" class=\"dataframe\">\n",
       "  <thead>\n",
       "    <tr style=\"text-align: right;\">\n",
       "      <th></th>\n",
       "      <th>0</th>\n",
       "      <th>1</th>\n",
       "      <th>2</th>\n",
       "      <th>3</th>\n",
       "    </tr>\n",
       "  </thead>\n",
       "  <tbody>\n",
       "    <tr>\n",
       "      <th>0</th>\n",
       "      <td>0</td>\n",
       "      <td>8</td>\n",
       "      <td>3</td>\n",
       "      <td>7</td>\n",
       "    </tr>\n",
       "    <tr>\n",
       "      <th>1</th>\n",
       "      <td>6</td>\n",
       "      <td>5</td>\n",
       "      <td>5</td>\n",
       "      <td>6</td>\n",
       "    </tr>\n",
       "    <tr>\n",
       "      <th>2</th>\n",
       "      <td>2</td>\n",
       "      <td>0</td>\n",
       "      <td>4</td>\n",
       "      <td>5</td>\n",
       "    </tr>\n",
       "  </tbody>\n",
       "</table>\n",
       "</div>"
      ],
      "text/plain": [
       "   0  1  2  3\n",
       "0  0  8  3  7\n",
       "1  6  5  5  6\n",
       "2  2  0  4  5"
      ]
     },
     "execution_count": 31,
     "metadata": {},
     "output_type": "execute_result"
    }
   ],
   "source": [
    "my_df"
   ]
  },
  {
   "cell_type": "code",
   "execution_count": 32,
   "id": "3a28da2f",
   "metadata": {},
   "outputs": [
    {
     "data": {
      "text/plain": [
       "array([[0, 8, 3, 7],\n",
       "       [6, 5, 5, 6],\n",
       "       [2, 0, 4, 5]])"
      ]
     },
     "execution_count": 32,
     "metadata": {},
     "output_type": "execute_result"
    }
   ],
   "source": [
    "my_df.values"
   ]
  },
  {
   "cell_type": "code",
   "execution_count": 33,
   "id": "0d5e230d",
   "metadata": {},
   "outputs": [
    {
     "data": {
      "text/plain": [
       "array([[0, 8, 3, 7],\n",
       "       [6, 5, 5, 6],\n",
       "       [2, 0, 4, 5]])"
      ]
     },
     "execution_count": 33,
     "metadata": {},
     "output_type": "execute_result"
    }
   ],
   "source": [
    "my_array"
   ]
  },
  {
   "cell_type": "code",
   "execution_count": 34,
   "id": "f0afb24a",
   "metadata": {},
   "outputs": [],
   "source": [
    "a1 = np.random.randint(9, size=(3,2))\n",
    "a2 = np.random.randint(10,19, size=(3,2))"
   ]
  },
  {
   "cell_type": "code",
   "execution_count": 35,
   "id": "c46efae1",
   "metadata": {},
   "outputs": [
    {
     "data": {
      "text/plain": [
       "array([[8, 3],\n",
       "       [1, 1],\n",
       "       [3, 1]])"
      ]
     },
     "execution_count": 35,
     "metadata": {},
     "output_type": "execute_result"
    }
   ],
   "source": [
    "a1"
   ]
  },
  {
   "cell_type": "code",
   "execution_count": 36,
   "id": "63967c4f",
   "metadata": {},
   "outputs": [
    {
     "data": {
      "text/plain": [
       "array([[13, 17],\n",
       "       [18, 13],\n",
       "       [16, 12]])"
      ]
     },
     "execution_count": 36,
     "metadata": {},
     "output_type": "execute_result"
    }
   ],
   "source": [
    "a2"
   ]
  },
  {
   "cell_type": "code",
   "execution_count": 37,
   "id": "5e96c901",
   "metadata": {},
   "outputs": [],
   "source": [
    "s1 = np.dstack((a1, a2))"
   ]
  },
  {
   "cell_type": "code",
   "execution_count": 38,
   "id": "ded09d05",
   "metadata": {},
   "outputs": [
    {
     "data": {
      "text/plain": [
       "array([[[ 8, 13],\n",
       "        [ 3, 17]],\n",
       "\n",
       "       [[ 1, 18],\n",
       "        [ 1, 13]],\n",
       "\n",
       "       [[ 3, 16],\n",
       "        [ 1, 12]]])"
      ]
     },
     "execution_count": 38,
     "metadata": {},
     "output_type": "execute_result"
    }
   ],
   "source": [
    "s1"
   ]
  },
  {
   "cell_type": "code",
   "execution_count": 39,
   "id": "d86f0340",
   "metadata": {},
   "outputs": [
    {
     "data": {
      "text/plain": [
       "((3, 2), (3, 2, 2))"
      ]
     },
     "execution_count": 39,
     "metadata": {},
     "output_type": "execute_result"
    }
   ],
   "source": [
    "a1.shape, s1.shape"
   ]
  },
  {
   "cell_type": "code",
   "execution_count": 40,
   "id": "dc756308",
   "metadata": {},
   "outputs": [],
   "source": [
    "s2 = np.dstack((s1, a2))"
   ]
  },
  {
   "cell_type": "code",
   "execution_count": 41,
   "id": "a461334b",
   "metadata": {},
   "outputs": [
    {
     "data": {
      "text/plain": [
       "array([[[ 8, 13, 13],\n",
       "        [ 3, 17, 17]],\n",
       "\n",
       "       [[ 1, 18, 18],\n",
       "        [ 1, 13, 13]],\n",
       "\n",
       "       [[ 3, 16, 16],\n",
       "        [ 1, 12, 12]]])"
      ]
     },
     "execution_count": 41,
     "metadata": {},
     "output_type": "execute_result"
    }
   ],
   "source": [
    "s2"
   ]
  },
  {
   "cell_type": "code",
   "execution_count": 42,
   "id": "03c444cf",
   "metadata": {},
   "outputs": [
    {
     "data": {
      "text/plain": [
       "array([[[ 8, 13, 13],\n",
       "        [ 3, 17, 17]],\n",
       "\n",
       "       [[ 1, 18, 18],\n",
       "        [ 1, 13, 13]],\n",
       "\n",
       "       [[ 3, 16, 16],\n",
       "        [ 1, 12, 12]]])"
      ]
     },
     "execution_count": 42,
     "metadata": {},
     "output_type": "execute_result"
    }
   ],
   "source": [
    "np.dstack((a1, a2, a2))"
   ]
  },
  {
   "cell_type": "code",
   "execution_count": 43,
   "id": "9828e4c3",
   "metadata": {},
   "outputs": [],
   "source": [
    "x = np.array([1,3,4,2])"
   ]
  },
  {
   "cell_type": "code",
   "execution_count": 44,
   "id": "8124fdbb",
   "metadata": {},
   "outputs": [
    {
     "data": {
      "text/plain": [
       "array([1, 3, 4, 2])"
      ]
     },
     "execution_count": 44,
     "metadata": {},
     "output_type": "execute_result"
    }
   ],
   "source": [
    "x"
   ]
  },
  {
   "cell_type": "code",
   "execution_count": 45,
   "id": "59fddb9e",
   "metadata": {},
   "outputs": [
    {
     "data": {
      "text/plain": [
       "(4,)"
      ]
     },
     "execution_count": 45,
     "metadata": {},
     "output_type": "execute_result"
    }
   ],
   "source": [
    "x.shape"
   ]
  },
  {
   "cell_type": "code",
   "execution_count": 46,
   "id": "257967ca",
   "metadata": {},
   "outputs": [],
   "source": [
    "y=np.dstack(x)"
   ]
  },
  {
   "cell_type": "code",
   "execution_count": 47,
   "id": "a16b6301",
   "metadata": {},
   "outputs": [
    {
     "data": {
      "text/plain": [
       "array([[[1, 3, 4, 2]]])"
      ]
     },
     "execution_count": 47,
     "metadata": {},
     "output_type": "execute_result"
    }
   ],
   "source": [
    "y"
   ]
  },
  {
   "cell_type": "code",
   "execution_count": 48,
   "id": "13c44ec6",
   "metadata": {},
   "outputs": [
    {
     "data": {
      "text/plain": [
       "(1, 1, 4)"
      ]
     },
     "execution_count": 48,
     "metadata": {},
     "output_type": "execute_result"
    }
   ],
   "source": [
    "y.shape"
   ]
  },
  {
   "cell_type": "code",
   "execution_count": null,
   "id": "e816d92e",
   "metadata": {},
   "outputs": [],
   "source": []
  },
  {
   "cell_type": "code",
   "execution_count": null,
   "id": "37fd52a0",
   "metadata": {},
   "outputs": [],
   "source": []
  },
  {
   "cell_type": "code",
   "execution_count": 49,
   "id": "5916b94c",
   "metadata": {},
   "outputs": [],
   "source": [
    "# X_train_file = r'C:\\Users\\80136730\\1dCNN\\HARDataset\\UCI HAR Dataset\\train\\Inertial Signals\\body_acc_x_train.txt' \n",
    "# there are 8 more\n",
    "# y_train_file = r'C:\\Users\\80136730\\1dCNN\\HARDataset\\UCI HAR Dataset\\train\\y_train.txt'\n",
    "\n",
    "# X_test_file = r'C:\\Users\\80136730\\1dCNN\\HARDataset\\UCI HAR Dataset\\test\\Inertial Signals\\body_acc_x_test.txt'  \n",
    "# there are 8 more\n",
    "# y_test_file = r'C:\\Users\\80136730\\1dCNN\\HARDataset\\UCI HAR Dataset\\test\\y_test.txt'\n",
    "\n",
    "def read_file(filepath):\n",
    "    return pd.read_csv(filepath, header=None, delim_whitespace=True).values\n",
    "\n",
    "def dstack_files(subset, filenames):\n",
    "    file_list = []\n",
    "    for name in filenames:\n",
    "        file = read_file(subset + name)\n",
    "        file_list.append(file)\n",
    "    return np.dstack(file_list)\n",
    "\n",
    "def load_group(dataset, group):\n",
    "    subset = dataset + group + '/Inertial Signals/'\n",
    "    filenames = ['body_acc_x_'+group+'.txt', 'body_acc_y_'+group+'.txt','body_acc_z_'+group+'.txt',\n",
    "                 'body_gyro_x_'+group+'.txt', 'body_gyro_y_'+group+'.txt','body_gyro_z_'+group+'.txt',\n",
    "                 'total_acc_x_'+group+'.txt', 'total_acc_y_'+group+'.txt','total_acc_z_'+group+'.txt']\n",
    "    X = dstack_files(subset, filenames)\n",
    "    y = read_file(dataset + group + '/y_' + group + '.txt')\n",
    "    return X, y\n",
    "\n",
    "def load_data(dataset=r'C:/Users/80136730/1dCNN/HARDataset/UCI HAR Dataset/'):\n",
    "    X_train, y_train = load_group(dataset, 'train')\n",
    "    X_test, y_test = load_group(dataset, 'test')\n",
    "    return X_train, y_train, X_test, y_test "
   ]
  },
  {
   "cell_type": "code",
   "execution_count": 50,
   "id": "9bd194c2",
   "metadata": {},
   "outputs": [],
   "source": [
    "Xtrain, ytrain, Xtest, ytest = load_data()"
   ]
  },
  {
   "cell_type": "code",
   "execution_count": 51,
   "id": "01862702",
   "metadata": {},
   "outputs": [
    {
     "data": {
      "text/plain": [
       "array([[5],\n",
       "       [5],\n",
       "       [5],\n",
       "       ...,\n",
       "       [2],\n",
       "       [2],\n",
       "       [2]], dtype=int64)"
      ]
     },
     "execution_count": 51,
     "metadata": {},
     "output_type": "execute_result"
    }
   ],
   "source": [
    "ytest"
   ]
  },
  {
   "cell_type": "code",
   "execution_count": 52,
   "id": "12b20efc",
   "metadata": {},
   "outputs": [
    {
     "data": {
      "text/plain": [
       "((7352, 128, 9), (7352, 1), (2947, 128, 9), (2947, 1))"
      ]
     },
     "execution_count": 52,
     "metadata": {},
     "output_type": "execute_result"
    }
   ],
   "source": [
    "Xtrain.shape, ytrain.shape, Xtest.shape, ytest.shape"
   ]
  },
  {
   "cell_type": "code",
   "execution_count": 53,
   "id": "4d8da6cb",
   "metadata": {},
   "outputs": [],
   "source": [
    "yt = np.ndarray.tolist(ytrain)"
   ]
  },
  {
   "cell_type": "code",
   "execution_count": 54,
   "id": "5c3cb945",
   "metadata": {},
   "outputs": [],
   "source": [
    "tl = [item for sublist in yt for item in sublist]"
   ]
  },
  {
   "cell_type": "code",
   "execution_count": 55,
   "id": "69dba5be",
   "metadata": {},
   "outputs": [
    {
     "data": {
      "text/plain": [
       "dict_items([(5, 1374), (4, 1286), (6, 1407), (1, 1226), (3, 986), (2, 1073)])"
      ]
     },
     "execution_count": 55,
     "metadata": {},
     "output_type": "execute_result"
    }
   ],
   "source": [
    "Counter(tl).items()"
   ]
  },
  {
   "cell_type": "code",
   "execution_count": 66,
   "id": "59f10b1c",
   "metadata": {},
   "outputs": [
    {
     "data": {
      "text/plain": [
       "array([[ 0.00927963,  0.00665052, -0.02631933, ...,  0.9991921 ,\n",
       "        -0.2649349 ,  0.1256164 ],\n",
       "       [ 0.00492971,  0.01864973, -0.02688753, ...,  0.9946787 ,\n",
       "        -0.2532142 ,  0.1256249 ],\n",
       "       [ 0.0039536 ,  0.0155395 , -0.03663861, ...,  0.9935518 ,\n",
       "        -0.2565887 ,  0.1163814 ],\n",
       "       ...,\n",
       "       [ 0.0077876 ,  0.00473062,  0.01412899, ...,  1.001861  ,\n",
       "        -0.2619359 ,  0.1527878 ],\n",
       "       [ 0.00343349, -0.00461985,  0.00133805, ...,  0.9975208 ,\n",
       "        -0.2713225 ,  0.1398428 ],\n",
       "       [-0.00123868, -0.01322889, -0.01703861, ...,  0.9928615 ,\n",
       "        -0.2799715 ,  0.1213135 ]])"
      ]
     },
     "execution_count": 66,
     "metadata": {},
     "output_type": "execute_result"
    }
   ],
   "source": [
    "Xtest[1]"
   ]
  },
  {
   "cell_type": "code",
   "execution_count": 67,
   "id": "67e060b8",
   "metadata": {},
   "outputs": [
    {
     "data": {
      "text/plain": [
       "array([ 0.00492971,  0.01864973, -0.02688753,  0.1752221 , -0.09536355,\n",
       "        0.04334361,  0.9946787 , -0.2532142 ,  0.1256249 ])"
      ]
     },
     "execution_count": 67,
     "metadata": {},
     "output_type": "execute_result"
    }
   ],
   "source": [
    "Xtest[1][1]"
   ]
  },
  {
   "cell_type": "code",
   "execution_count": 68,
   "id": "6a8a9b5c",
   "metadata": {},
   "outputs": [
    {
     "data": {
      "text/plain": [
       "128"
      ]
     },
     "execution_count": 68,
     "metadata": {},
     "output_type": "execute_result"
    }
   ],
   "source": [
    "len(Xtest[1])"
   ]
  },
  {
   "cell_type": "code",
   "execution_count": null,
   "id": "7f019e5d",
   "metadata": {},
   "outputs": [],
   "source": []
  },
  {
   "cell_type": "code",
   "execution_count": 143,
   "id": "5a87a535",
   "metadata": {},
   "outputs": [],
   "source": [
    "# one hot encode y\n",
    "ytrain_hot = to_categorical(ytrain-1, num_classes=6)\n",
    "ytest_hot = to_categorical(ytest-1, num_classes=6)"
   ]
  },
  {
   "cell_type": "code",
   "execution_count": 58,
   "id": "fe1cb915",
   "metadata": {},
   "outputs": [
    {
     "data": {
      "text/plain": [
       "(7352, 6)"
      ]
     },
     "execution_count": 58,
     "metadata": {},
     "output_type": "execute_result"
    }
   ],
   "source": [
    "ytrain_hot.shape"
   ]
  },
  {
   "cell_type": "code",
   "execution_count": 59,
   "id": "61ab2c9e",
   "metadata": {},
   "outputs": [
    {
     "data": {
      "text/plain": [
       "array([0., 0., 0., 0., 1., 0.], dtype=float32)"
      ]
     },
     "execution_count": 59,
     "metadata": {},
     "output_type": "execute_result"
    }
   ],
   "source": [
    "ytrain_hot[1]"
   ]
  },
  {
   "cell_type": "code",
   "execution_count": 60,
   "id": "4e79a3a4",
   "metadata": {},
   "outputs": [
    {
     "data": {
      "text/plain": [
       "array([[0., 1., 0., 0.],\n",
       "       [0., 0., 0., 1.]], dtype=float32)"
      ]
     },
     "execution_count": 60,
     "metadata": {},
     "output_type": "execute_result"
    }
   ],
   "source": [
    "to_categorical([1,3])"
   ]
  },
  {
   "cell_type": "code",
   "execution_count": 61,
   "id": "aa30be9e",
   "metadata": {},
   "outputs": [],
   "source": [
    "# from sklearn.model_selection import train_test_split\n",
    "# X_train, X_test, y_train, y_test = train_test_split(X, y, test_size=0.20, random_state=33)"
   ]
  },
  {
   "cell_type": "code",
   "execution_count": 79,
   "id": "4bbb69ff",
   "metadata": {},
   "outputs": [
    {
     "data": {
      "text/plain": [
       "4"
      ]
     },
     "execution_count": 79,
     "metadata": {},
     "output_type": "execute_result"
    }
   ],
   "source": [
    "X = np.array(np.random.randint(100, size=(12,2)))\n",
    "y = np.array(np.random.randint(100, size=(12,1)))"
   ]
  },
  {
   "cell_type": "code",
   "execution_count": 86,
   "id": "78452676",
   "metadata": {},
   "outputs": [
    {
     "name": "stdout",
     "output_type": "stream",
     "text": [
      "TRAIN: [ 3  4  5  6  7  8  9 10 11] TEST: [0 1 2]\n",
      "TRAIN: [ 0  1  2  6  7  8  9 10 11] TEST: [3 4 5]\n",
      "TRAIN: [ 0  1  2  3  4  5  9 10 11] TEST: [6 7 8]\n",
      "TRAIN: [0 1 2 3 4 5 6 7 8] TEST: [ 9 10 11]\n"
     ]
    }
   ],
   "source": [
    "kf = KFold(n_splits=4, random_state=None, shuffle=False)\n",
    "for train_index, test_index in kf.split(X):\n",
    "     print(\"TRAIN:\", train_index, \"TEST:\", test_index)\n",
    "     X_train, X_test = X[train_index], X[test_index]\n",
    "     y_train, y_test = y[train_index], y[test_index]"
   ]
  },
  {
   "cell_type": "code",
   "execution_count": 88,
   "id": "d9e7fa67",
   "metadata": {},
   "outputs": [
    {
     "name": "stdout",
     "output_type": "stream",
     "text": [
      "TRAIN: [ 0  3  4  5  6  7  8  9 10] TEST: [ 1  2 11]\n",
      "TRAIN: [ 0  1  2  4  5  6  7 10 11] TEST: [3 8 9]\n",
      "TRAIN: [ 0  1  2  3  4  5  8  9 11] TEST: [ 6  7 10]\n",
      "TRAIN: [ 1  2  3  6  7  8  9 10 11] TEST: [0 4 5]\n"
     ]
    }
   ],
   "source": [
    "kf = KFold(n_splits=4, random_state=22, shuffle=True)\n",
    "for train_index, test_index in kf.split(X):\n",
    "     print(\"TRAIN:\", train_index, \"TEST:\", test_index)"
   ]
  },
  {
   "cell_type": "code",
   "execution_count": 136,
   "id": "4445957e",
   "metadata": {},
   "outputs": [],
   "source": [
    "def cross_validate(X, y, K = 5, epochs=6, batch_size=800, verbose=0):\n",
    "    scores = []\n",
    "    histories = []\n",
    "    for train, test in KFold(n_splits=K, shuffle=True).split(X,y):\n",
    "        model = cnn1d_model\n",
    "        #start = time()\n",
    "        histories.append(model.fit(X[train], y[train],\n",
    "                                   validation_data = (X[test],y[test]), # feed in the test data for plotting\n",
    "                                   epochs=epochs, batch_size=batch_size, verbose=verbose).history)\n",
    "        #print(time() - start)\n",
    "        scores.append(model.evaluate(X[test], y[test], verbose = 0)) # evaluate the test dataset\n",
    "#     print(\"average test loss: \", np.asarray(scores)[:,0].mean())\n",
    "#     print(\"average test accuracy: \", np.asarray(scores)[:,1].mean())\n",
    "#     print(model.summary())\n",
    "    return scores, histories"
   ]
  },
  {
   "cell_type": "code",
   "execution_count": 137,
   "id": "bd51e58c",
   "metadata": {},
   "outputs": [],
   "source": [
    "cv_scores, cv_histories = cross_validate(Xtrain, ytrain_hot)"
   ]
  },
  {
   "cell_type": "code",
   "execution_count": 138,
   "id": "7a484022",
   "metadata": {},
   "outputs": [
    {
     "data": {
      "text/plain": [
       "[{'val_loss': [0.0025775478818035355,\n",
       "   0.002444141602253175,\n",
       "   0.0024413760639264937,\n",
       "   0.002413228336442452,\n",
       "   0.002369398932731796,\n",
       "   0.0024807467299464768],\n",
       "  'val_accuracy': [1.0, 1.0, 1.0, 1.0, 1.0, 1.0],\n",
       "  'loss': [0.0014554152872585694,\n",
       "   0.0014651314103994895,\n",
       "   0.0010109708072448837,\n",
       "   0.0009886371769593236,\n",
       "   0.0007005747881976663,\n",
       "   0.0008451368527621845],\n",
       "  'accuracy': [0.9996599, 0.99982995, 1.0, 1.0, 1.0, 1.0]},\n",
       " {'val_loss': [0.0017990424244884303,\n",
       "   0.00275401469829089,\n",
       "   0.002402277715740957,\n",
       "   0.0032840754248310744,\n",
       "   0.0028954223424346925,\n",
       "   0.003176177778413594],\n",
       "  'val_accuracy': [1.0, 1.0, 1.0, 1.0, 1.0, 0.9993202090263367],\n",
       "  'loss': [0.0011886257886594578,\n",
       "   0.002449347683370048,\n",
       "   0.0026686704006574032,\n",
       "   0.0037443577421994115,\n",
       "   0.002849545114517055,\n",
       "   0.0028495455510299727],\n",
       "  'accuracy': [0.99982995,\n",
       "   0.99931985,\n",
       "   0.99931985,\n",
       "   0.9991498,\n",
       "   0.9994899,\n",
       "   0.9991498]},\n",
       " {'val_loss': [0.003795981190173703,\n",
       "   0.004648005056074586,\n",
       "   0.005349485795995613,\n",
       "   0.0036152712256349875,\n",
       "   0.0033107990855161026,\n",
       "   0.0032395987001684855],\n",
       "  'val_accuracy': [0.9993197321891785,\n",
       "   0.9986394643783569,\n",
       "   0.9986394643783569,\n",
       "   0.9993197321891785,\n",
       "   0.9993197321891785,\n",
       "   0.9993197321891785],\n",
       "  'loss': [0.0027322426221769816,\n",
       "   0.002113295305087133,\n",
       "   0.003066880423977809,\n",
       "   0.0016159894092822944,\n",
       "   0.0012932225260312775,\n",
       "   0.0011605863071568322],\n",
       "  'accuracy': [0.99915, 0.99948996, 0.99932, 0.99965996, 0.99983, 1.0]},\n",
       " {'val_loss': [0.0023061039471099164,\n",
       "   0.003162242011262142,\n",
       "   0.002350540589351131,\n",
       "   0.002671949205869416,\n",
       "   0.0022991415775273326,\n",
       "   0.0018739292903353466],\n",
       "  'val_accuracy': [1.0, 1.0, 1.0, 1.0, 1.0, 1.0],\n",
       "  'loss': [0.0015776220611551514,\n",
       "   0.00486800923217715,\n",
       "   0.003475105898918388,\n",
       "   0.0020923148113911206,\n",
       "   0.002874944594942682,\n",
       "   0.001681612133491336],\n",
       "  'accuracy': [0.99948996,\n",
       "   0.99863994,\n",
       "   0.99880993,\n",
       "   0.99965996,\n",
       "   0.99948996,\n",
       "   0.99983]},\n",
       " {'val_loss': [0.0022354884458021546,\n",
       "   0.0018744518414938024,\n",
       "   0.002045560036595835,\n",
       "   0.002114145343388323,\n",
       "   0.001890826979050172,\n",
       "   0.0017358870673164421],\n",
       "  'val_accuracy': [1.0, 1.0, 1.0, 1.0, 1.0, 1.0],\n",
       "  'loss': [0.0011638017227192843,\n",
       "   0.0010394448884222904,\n",
       "   0.001229947750850567,\n",
       "   0.000899680570624224,\n",
       "   0.0009600207213664206,\n",
       "   0.0010180508219180973],\n",
       "  'accuracy': [0.99983, 1.0, 0.99983, 1.0, 1.0, 1.0]}]"
      ]
     },
     "execution_count": 138,
     "metadata": {},
     "output_type": "execute_result"
    }
   ],
   "source": [
    "cv_histories"
   ]
  },
  {
   "cell_type": "code",
   "execution_count": 120,
   "id": "71b5d44c",
   "metadata": {},
   "outputs": [
    {
     "data": {
      "text/plain": [
       "array([1, 2, 3, 4])"
      ]
     },
     "execution_count": 120,
     "metadata": {},
     "output_type": "execute_result"
    }
   ],
   "source": [
    "np.arange(4)+1"
   ]
  },
  {
   "cell_type": "code",
   "execution_count": 139,
   "id": "43e6b1f6",
   "metadata": {
    "scrolled": true
   },
   "outputs": [
    {
     "data": {
      "text/plain": [
       "[[0.0024807467490211344, 1.0],\n",
       " [0.0031761778134560353, 0.9993202090263367],\n",
       " [0.003239598455716031, 0.9993197321891785],\n",
       " [0.0018739292562546621, 1.0],\n",
       " [0.001735886570507436, 1.0]]"
      ]
     },
     "execution_count": 139,
     "metadata": {},
     "output_type": "execute_result"
    }
   ],
   "source": [
    "cv_scores"
   ]
  },
  {
   "cell_type": "code",
   "execution_count": null,
   "id": "e7d7b507",
   "metadata": {},
   "outputs": [],
   "source": []
  },
  {
   "cell_type": "code",
   "execution_count": null,
   "id": "d2233ea7",
   "metadata": {},
   "outputs": [],
   "source": []
  },
  {
   "cell_type": "code",
   "execution_count": 140,
   "id": "e2f7f0b8",
   "metadata": {},
   "outputs": [],
   "source": [
    "def plot_histories(histories, metrics = ['loss', 'val_loss', 'accuracy', 'val_accuracy']):\n",
    "    \n",
    "    fig, axes = plt.subplots(nrows = (len(metrics) - 1) // 2 + 1, ncols = 2, figsize = (16,16))\n",
    "    #axes = axes.reshape((len(metrics) - 1) // 2 + 1, 2)\n",
    "    for i,metric in enumerate(metrics):\n",
    "        for history in histories:\n",
    "            axes[(i+2)//2 - 1, 1 - (i+1)%2].plot(history[metric])\n",
    "            axes[(i+2)//2 - 1, 1 - (i+1)%2].legend([i for i in range(len(histories))])\n",
    "            axes[(i+2)//2 - 1, 1 - (i+1)%2].set_xticks(np.arange(len(history[metric])))\n",
    "            axes[(i+2)//2 - 1, 1 - (i+1)%2].set_xticklabels(1+np.arange(len(history[metric])))\n",
    "            axes[(i+2)//2 - 1, 1 - (i+1)%2].set_title(metric)"
   ]
  },
  {
   "cell_type": "code",
   "execution_count": 141,
   "id": "d8131f8b",
   "metadata": {},
   "outputs": [
    {
     "data": {
      "image/png": "[encoded data removed]",
      "text/plain": [
       "<Figure size 1152x1152 with 4 Axes>"
      ]
     },
     "metadata": {
      "needs_background": "light"
     },
     "output_type": "display_data"
    }
   ],
   "source": [
    "plot_histories(cv_histories)"
   ]
  },
  {
   "cell_type": "code",
   "execution_count": 148,
   "id": "1c4167b5",
   "metadata": {},
   "outputs": [],
   "source": [
    "scores = cnn1d_model.evaluate(Xtest, ytest_hot, verbose = 0)"
   ]
  },
  {
   "cell_type": "code",
   "execution_count": 147,
   "id": "60103e6c",
   "metadata": {},
   "outputs": [
    {
     "data": {
      "text/plain": [
       "['loss', 'accuracy']"
      ]
     },
     "execution_count": 147,
     "metadata": {},
     "output_type": "execute_result"
    }
   ],
   "source": [
    "cnn1d_model.metrics_names"
   ]
  },
  {
   "cell_type": "code",
   "execution_count": 152,
   "id": "0fa31388",
   "metadata": {},
   "outputs": [
    {
     "data": {
      "text/plain": [
       "[0.8131013702372377, 0.9222938418388367]"
      ]
     },
     "execution_count": 152,
     "metadata": {},
     "output_type": "execute_result"
    }
   ],
   "source": [
    "scores"
   ]
  },
  {
   "cell_type": "code",
   "execution_count": 153,
   "id": "b86fdd4a",
   "metadata": {},
   "outputs": [],
   "source": [
    "prediction = cnn1d_model.predict(Xtest)"
   ]
  },
  {
   "cell_type": "code",
   "execution_count": 155,
   "id": "bcafd0f9",
   "metadata": {},
   "outputs": [
    {
     "data": {
      "text/plain": [
       "(2947, 6)"
      ]
     },
     "execution_count": 155,
     "metadata": {},
     "output_type": "execute_result"
    }
   ],
   "source": [
    "prediction.shape"
   ]
  },
  {
   "cell_type": "code",
   "execution_count": 156,
   "id": "a3321214",
   "metadata": {},
   "outputs": [
    {
     "data": {
      "text/plain": [
       "array([3.6808075e-08, 4.6340389e-05, 5.7810057e-10, 1.6409176e-08,\n",
       "       9.9995363e-01, 3.7869783e-09], dtype=float32)"
      ]
     },
     "execution_count": 156,
     "metadata": {},
     "output_type": "execute_result"
    }
   ],
   "source": [
    "prediction[1]"
   ]
  },
  {
   "cell_type": "code",
   "execution_count": 157,
   "id": "7a32846e",
   "metadata": {},
   "outputs": [
    {
     "data": {
      "text/plain": [
       "array([0., 0., 0., 0., 1., 0.], dtype=float32)"
      ]
     },
     "execution_count": 157,
     "metadata": {},
     "output_type": "execute_result"
    }
   ],
   "source": [
    "ytest_hot[1]"
   ]
  },
  {
   "cell_type": "code",
   "execution_count": null,
   "id": "fc4e1286",
   "metadata": {},
   "outputs": [],
   "source": []
  },
  {
   "cell_type": "code",
   "execution_count": null,
   "id": "77f5a7b2",
   "metadata": {},
   "outputs": [],
   "source": []
  }
 ],
 "metadata": {
  "kernelspec": {
   "display_name": "Deep",
   "language": "python",
   "name": "deep"
  },
  "language_info": {
   "codemirror_mode": {
    "name": "ipython",
    "version": 3
   },
   "file_extension": ".py",
   "mimetype": "text/x-python",
   "name": "python",
   "nbconvert_exporter": "python",
   "pygments_lexer": "ipython3",
   "version": "3.6.13"
  }
 },
 "nbformat": 4,
 "nbformat_minor": 5
}
