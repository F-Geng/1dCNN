{
 "cells": [
  {
   "cell_type": "code",
   "execution_count": 3,
   "id": "4f98e737",
   "metadata": {},
   "outputs": [],
   "source": [
    "import numpy as np\n",
    "import pandas as pd\n",
    "import matplotlib.pyplot as plt\n",
    "from collections import Counter\n",
    "\n"
   ]
  },
  {
   "cell_type": "code",
   "execution_count": 65,
   "id": "4b674ff8",
   "metadata": {},
   "outputs": [],
   "source": [
    "pd.set_option('display.max_rows', 20)\n",
    "pd.set_option('display.max_columns', None)"
   ]
  },
  {
   "cell_type": "code",
   "execution_count": 5,
   "id": "8a774870",
   "metadata": {},
   "outputs": [],
   "source": [
    "# Load data from https://archive.ics.uci.edu/ml/machine-learning-databases/00240/UCI%20HAR%20Dataset.zip\n",
    "# and unzip all files into a new “HARDataset”directory in current working directory. "
   ]
  },
  {
   "cell_type": "code",
   "execution_count": 6,
   "id": "a1c495a2",
   "metadata": {},
   "outputs": [],
   "source": [
    "# In the \"train\" data folder, there are \n",
    "# 9 files recording 9 measurements in \"Inertial Signals\" folder, these are predictor data (independant variables), shape (7352 x 128);\n",
    "# and 1 y_train file, this is the target (dependant variables), shape (7352 x 1).\n",
    "\n",
    "# Similar with \"test\" data folder.\n",
    "\n",
    "# Let's read one training file and one testing file and have a quick look:\n",
    "\n",
    "X_train_file = r'C:\\Users\\80136730\\1dCNN\\HARDataset\\UCI HAR Dataset\\train\\Inertial Signals\\body_acc_x_train.txt' #there are 8 more\n",
    "y_train_file = r'C:\\Users\\80136730\\1dCNN\\HARDataset\\UCI HAR Dataset\\train\\y_train.txt'\n",
    "X_test_file = r'C:\\Users\\80136730\\1dCNN\\HARDataset\\UCI HAR Dataset\\test\\Inertial Signals\\body_acc_x_test.txt'  #there are 8 more\n",
    "y_test_file = r'C:\\Users\\80136730\\1dCNN\\HARDataset\\UCI HAR Dataset\\test\\y_test.txt'"
   ]
  },
  {
   "cell_type": "code",
   "execution_count": 7,
   "id": "4e1ca310",
   "metadata": {},
   "outputs": [],
   "source": [
    "X_train1 = pd.read_csv(X_train_file, header=None, delim_whitespace=True)\n",
    "y_train1 = pd.read_csv(y_train_file, header=None, delim_whitespace=True)"
   ]
  },
  {
   "cell_type": "code",
   "execution_count": 9,
   "id": "6983cd2b",
   "metadata": {},
   "outputs": [
    {
     "data": {
      "text/plain": [
       "((7352, 128), (7352, 1))"
      ]
     },
     "execution_count": 9,
     "metadata": {},
     "output_type": "execute_result"
    }
   ],
   "source": [
    "X_train1.shape, y_train1.shape"
   ]
  },
  {
   "cell_type": "code",
   "execution_count": 11,
   "id": "2f006e46",
   "metadata": {
    "scrolled": false
   },
   "outputs": [
    {
     "data": {
      "text/html": [
       "<div>\n",
       "<style scoped>\n",
       "    .dataframe tbody tr th:only-of-type {\n",
       "        vertical-align: middle;\n",
       "    }\n",
       "\n",
       "    .dataframe tbody tr th {\n",
       "        vertical-align: top;\n",
       "    }\n",
       "\n",
       "    .dataframe thead th {\n",
       "        text-align: right;\n",
       "    }\n",
       "</style>\n",
       "<table border=\"1\" class=\"dataframe\">\n",
       "  <thead>\n",
       "    <tr style=\"text-align: right;\">\n",
       "      <th></th>\n",
       "      <th>0</th>\n",
       "      <th>1</th>\n",
       "      <th>2</th>\n",
       "      <th>3</th>\n",
       "      <th>4</th>\n",
       "      <th>5</th>\n",
       "      <th>6</th>\n",
       "      <th>7</th>\n",
       "      <th>8</th>\n",
       "      <th>9</th>\n",
       "      <th>...</th>\n",
       "      <th>118</th>\n",
       "      <th>119</th>\n",
       "      <th>120</th>\n",
       "      <th>121</th>\n",
       "      <th>122</th>\n",
       "      <th>123</th>\n",
       "      <th>124</th>\n",
       "      <th>125</th>\n",
       "      <th>126</th>\n",
       "      <th>127</th>\n",
       "    </tr>\n",
       "  </thead>\n",
       "  <tbody>\n",
       "    <tr>\n",
       "      <th>0</th>\n",
       "      <td>0.000181</td>\n",
       "      <td>0.010139</td>\n",
       "      <td>0.009276</td>\n",
       "      <td>0.005066</td>\n",
       "      <td>0.010810</td>\n",
       "      <td>0.004045</td>\n",
       "      <td>0.004757</td>\n",
       "      <td>0.006214</td>\n",
       "      <td>0.003307</td>\n",
       "      <td>0.007572</td>\n",
       "      <td>...</td>\n",
       "      <td>0.001412</td>\n",
       "      <td>-0.001509</td>\n",
       "      <td>0.000060</td>\n",
       "      <td>0.000435</td>\n",
       "      <td>-0.000819</td>\n",
       "      <td>0.000228</td>\n",
       "      <td>-0.000300</td>\n",
       "      <td>-0.001147</td>\n",
       "      <td>-0.000222</td>\n",
       "      <td>0.001576</td>\n",
       "    </tr>\n",
       "    <tr>\n",
       "      <th>1</th>\n",
       "      <td>0.001094</td>\n",
       "      <td>0.004550</td>\n",
       "      <td>0.002879</td>\n",
       "      <td>0.002247</td>\n",
       "      <td>0.003305</td>\n",
       "      <td>0.002416</td>\n",
       "      <td>0.001619</td>\n",
       "      <td>0.000981</td>\n",
       "      <td>0.000009</td>\n",
       "      <td>-0.000363</td>\n",
       "      <td>...</td>\n",
       "      <td>-0.000104</td>\n",
       "      <td>-0.000141</td>\n",
       "      <td>0.001333</td>\n",
       "      <td>0.001541</td>\n",
       "      <td>0.001077</td>\n",
       "      <td>-0.000736</td>\n",
       "      <td>-0.003767</td>\n",
       "      <td>-0.004646</td>\n",
       "      <td>-0.002941</td>\n",
       "      <td>-0.001599</td>\n",
       "    </tr>\n",
       "    <tr>\n",
       "      <th>2</th>\n",
       "      <td>0.003531</td>\n",
       "      <td>0.002285</td>\n",
       "      <td>-0.000420</td>\n",
       "      <td>-0.003738</td>\n",
       "      <td>-0.006706</td>\n",
       "      <td>-0.003148</td>\n",
       "      <td>0.000733</td>\n",
       "      <td>0.000668</td>\n",
       "      <td>0.002162</td>\n",
       "      <td>-0.000946</td>\n",
       "      <td>...</td>\n",
       "      <td>0.000661</td>\n",
       "      <td>0.001853</td>\n",
       "      <td>-0.000268</td>\n",
       "      <td>-0.000394</td>\n",
       "      <td>-0.000279</td>\n",
       "      <td>-0.000316</td>\n",
       "      <td>0.000144</td>\n",
       "      <td>0.001246</td>\n",
       "      <td>0.003117</td>\n",
       "      <td>0.002178</td>\n",
       "    </tr>\n",
       "    <tr>\n",
       "      <th>3</th>\n",
       "      <td>-0.001772</td>\n",
       "      <td>-0.001311</td>\n",
       "      <td>0.000388</td>\n",
       "      <td>0.000408</td>\n",
       "      <td>-0.000355</td>\n",
       "      <td>0.000998</td>\n",
       "      <td>0.001109</td>\n",
       "      <td>-0.003149</td>\n",
       "      <td>-0.008882</td>\n",
       "      <td>-0.010483</td>\n",
       "      <td>...</td>\n",
       "      <td>0.000458</td>\n",
       "      <td>0.002103</td>\n",
       "      <td>0.001358</td>\n",
       "      <td>0.000820</td>\n",
       "      <td>-0.000212</td>\n",
       "      <td>-0.001915</td>\n",
       "      <td>-0.001631</td>\n",
       "      <td>-0.000867</td>\n",
       "      <td>-0.001172</td>\n",
       "      <td>-0.000028</td>\n",
       "    </tr>\n",
       "    <tr>\n",
       "      <th>4</th>\n",
       "      <td>0.000087</td>\n",
       "      <td>-0.000272</td>\n",
       "      <td>0.001022</td>\n",
       "      <td>0.003126</td>\n",
       "      <td>0.002284</td>\n",
       "      <td>0.000885</td>\n",
       "      <td>0.001933</td>\n",
       "      <td>0.002270</td>\n",
       "      <td>0.002247</td>\n",
       "      <td>0.002175</td>\n",
       "      <td>...</td>\n",
       "      <td>0.002529</td>\n",
       "      <td>0.003518</td>\n",
       "      <td>-0.000248</td>\n",
       "      <td>-0.002761</td>\n",
       "      <td>0.000252</td>\n",
       "      <td>0.003752</td>\n",
       "      <td>0.001626</td>\n",
       "      <td>-0.000698</td>\n",
       "      <td>-0.001223</td>\n",
       "      <td>-0.003328</td>\n",
       "    </tr>\n",
       "  </tbody>\n",
       "</table>\n",
       "<p>5 rows × 128 columns</p>\n",
       "</div>"
      ],
      "text/plain": [
       "        0         1         2         3         4         5         6    \\\n",
       "0  0.000181  0.010139  0.009276  0.005066  0.010810  0.004045  0.004757   \n",
       "1  0.001094  0.004550  0.002879  0.002247  0.003305  0.002416  0.001619   \n",
       "2  0.003531  0.002285 -0.000420 -0.003738 -0.006706 -0.003148  0.000733   \n",
       "3 -0.001772 -0.001311  0.000388  0.000408 -0.000355  0.000998  0.001109   \n",
       "4  0.000087 -0.000272  0.001022  0.003126  0.002284  0.000885  0.001933   \n",
       "\n",
       "        7         8         9    ...       118       119       120       121  \\\n",
       "0  0.006214  0.003307  0.007572  ...  0.001412 -0.001509  0.000060  0.000435   \n",
       "1  0.000981  0.000009 -0.000363  ... -0.000104 -0.000141  0.001333  0.001541   \n",
       "2  0.000668  0.002162 -0.000946  ...  0.000661  0.001853 -0.000268 -0.000394   \n",
       "3 -0.003149 -0.008882 -0.010483  ...  0.000458  0.002103  0.001358  0.000820   \n",
       "4  0.002270  0.002247  0.002175  ...  0.002529  0.003518 -0.000248 -0.002761   \n",
       "\n",
       "        122       123       124       125       126       127  \n",
       "0 -0.000819  0.000228 -0.000300 -0.001147 -0.000222  0.001576  \n",
       "1  0.001077 -0.000736 -0.003767 -0.004646 -0.002941 -0.001599  \n",
       "2 -0.000279 -0.000316  0.000144  0.001246  0.003117  0.002178  \n",
       "3 -0.000212 -0.001915 -0.001631 -0.000867 -0.001172 -0.000028  \n",
       "4  0.000252  0.003752  0.001626 -0.000698 -0.001223 -0.003328  \n",
       "\n",
       "[5 rows x 128 columns]"
      ]
     },
     "execution_count": 11,
     "metadata": {},
     "output_type": "execute_result"
    }
   ],
   "source": [
    "X_train1.head()"
   ]
  },
  {
   "cell_type": "code",
   "execution_count": 27,
   "id": "fb3e53cf",
   "metadata": {},
   "outputs": [
    {
     "name": "stdout",
     "output_type": "stream",
     "text": [
      "1 1226\n",
      "2 1073\n",
      "3 986\n",
      "4 1286\n",
      "5 1374\n",
      "6 1407\n"
     ]
    }
   ],
   "source": [
    "count = dict(Counter(y_train1[0]))\n",
    "for key, value in sorted(count.items()):\n",
    "    print (key, value) "
   ]
  },
  {
   "cell_type": "code",
   "execution_count": 28,
   "id": "0f14c40c",
   "metadata": {},
   "outputs": [
    {
     "data": {
      "text/plain": [
       "{5: 1374, 4: 1286, 6: 1407, 1: 1226, 3: 986, 2: 1073}"
      ]
     },
     "execution_count": 28,
     "metadata": {},
     "output_type": "execute_result"
    }
   ],
   "source": [
    "count"
   ]
  },
  {
   "cell_type": "code",
   "execution_count": 29,
   "id": "176cf178",
   "metadata": {},
   "outputs": [],
   "source": [
    "my_array = np.random.randint(10, size=(3,4))"
   ]
  },
  {
   "cell_type": "code",
   "execution_count": 30,
   "id": "92b757fa",
   "metadata": {},
   "outputs": [],
   "source": [
    "my_df = pd.DataFrame(my_array)"
   ]
  },
  {
   "cell_type": "code",
   "execution_count": 31,
   "id": "66b55caa",
   "metadata": {},
   "outputs": [
    {
     "data": {
      "text/html": [
       "<div>\n",
       "<style scoped>\n",
       "    .dataframe tbody tr th:only-of-type {\n",
       "        vertical-align: middle;\n",
       "    }\n",
       "\n",
       "    .dataframe tbody tr th {\n",
       "        vertical-align: top;\n",
       "    }\n",
       "\n",
       "    .dataframe thead th {\n",
       "        text-align: right;\n",
       "    }\n",
       "</style>\n",
       "<table border=\"1\" class=\"dataframe\">\n",
       "  <thead>\n",
       "    <tr style=\"text-align: right;\">\n",
       "      <th></th>\n",
       "      <th>0</th>\n",
       "      <th>1</th>\n",
       "      <th>2</th>\n",
       "      <th>3</th>\n",
       "    </tr>\n",
       "  </thead>\n",
       "  <tbody>\n",
       "    <tr>\n",
       "      <th>0</th>\n",
       "      <td>0</td>\n",
       "      <td>8</td>\n",
       "      <td>3</td>\n",
       "      <td>7</td>\n",
       "    </tr>\n",
       "    <tr>\n",
       "      <th>1</th>\n",
       "      <td>6</td>\n",
       "      <td>5</td>\n",
       "      <td>5</td>\n",
       "      <td>6</td>\n",
       "    </tr>\n",
       "    <tr>\n",
       "      <th>2</th>\n",
       "      <td>2</td>\n",
       "      <td>0</td>\n",
       "      <td>4</td>\n",
       "      <td>5</td>\n",
       "    </tr>\n",
       "  </tbody>\n",
       "</table>\n",
       "</div>"
      ],
      "text/plain": [
       "   0  1  2  3\n",
       "0  0  8  3  7\n",
       "1  6  5  5  6\n",
       "2  2  0  4  5"
      ]
     },
     "execution_count": 31,
     "metadata": {},
     "output_type": "execute_result"
    }
   ],
   "source": [
    "my_df"
   ]
  },
  {
   "cell_type": "code",
   "execution_count": 32,
   "id": "3a28da2f",
   "metadata": {},
   "outputs": [
    {
     "data": {
      "text/plain": [
       "array([[0, 8, 3, 7],\n",
       "       [6, 5, 5, 6],\n",
       "       [2, 0, 4, 5]])"
      ]
     },
     "execution_count": 32,
     "metadata": {},
     "output_type": "execute_result"
    }
   ],
   "source": [
    "my_df.values"
   ]
  },
  {
   "cell_type": "code",
   "execution_count": 33,
   "id": "0d5e230d",
   "metadata": {},
   "outputs": [
    {
     "data": {
      "text/plain": [
       "array([[0, 8, 3, 7],\n",
       "       [6, 5, 5, 6],\n",
       "       [2, 0, 4, 5]])"
      ]
     },
     "execution_count": 33,
     "metadata": {},
     "output_type": "execute_result"
    }
   ],
   "source": [
    "my_array"
   ]
  },
  {
   "cell_type": "code",
   "execution_count": 34,
   "id": "f0afb24a",
   "metadata": {},
   "outputs": [],
   "source": [
    "a1 = np.random.randint(9, size=(3,2))\n",
    "a2 = np.random.randint(10,19, size=(3,2))"
   ]
  },
  {
   "cell_type": "code",
   "execution_count": 35,
   "id": "c46efae1",
   "metadata": {},
   "outputs": [
    {
     "data": {
      "text/plain": [
       "array([[8, 3],\n",
       "       [1, 1],\n",
       "       [3, 1]])"
      ]
     },
     "execution_count": 35,
     "metadata": {},
     "output_type": "execute_result"
    }
   ],
   "source": [
    "a1"
   ]
  },
  {
   "cell_type": "code",
   "execution_count": 36,
   "id": "63967c4f",
   "metadata": {},
   "outputs": [
    {
     "data": {
      "text/plain": [
       "array([[13, 17],\n",
       "       [18, 13],\n",
       "       [16, 12]])"
      ]
     },
     "execution_count": 36,
     "metadata": {},
     "output_type": "execute_result"
    }
   ],
   "source": [
    "a2"
   ]
  },
  {
   "cell_type": "code",
   "execution_count": 37,
   "id": "5e96c901",
   "metadata": {},
   "outputs": [],
   "source": [
    "s1 = np.dstack((a1, a2))"
   ]
  },
  {
   "cell_type": "code",
   "execution_count": 38,
   "id": "ded09d05",
   "metadata": {},
   "outputs": [
    {
     "data": {
      "text/plain": [
       "array([[[ 8, 13],\n",
       "        [ 3, 17]],\n",
       "\n",
       "       [[ 1, 18],\n",
       "        [ 1, 13]],\n",
       "\n",
       "       [[ 3, 16],\n",
       "        [ 1, 12]]])"
      ]
     },
     "execution_count": 38,
     "metadata": {},
     "output_type": "execute_result"
    }
   ],
   "source": [
    "s1"
   ]
  },
  {
   "cell_type": "code",
   "execution_count": 39,
   "id": "d86f0340",
   "metadata": {},
   "outputs": [
    {
     "data": {
      "text/plain": [
       "((3, 2), (3, 2, 2))"
      ]
     },
     "execution_count": 39,
     "metadata": {},
     "output_type": "execute_result"
    }
   ],
   "source": [
    "a1.shape, s1.shape"
   ]
  },
  {
   "cell_type": "code",
   "execution_count": 40,
   "id": "dc756308",
   "metadata": {},
   "outputs": [],
   "source": [
    "s2 = np.dstack((s1, a2))"
   ]
  },
  {
   "cell_type": "code",
   "execution_count": 41,
   "id": "a461334b",
   "metadata": {},
   "outputs": [
    {
     "data": {
      "text/plain": [
       "array([[[ 8, 13, 13],\n",
       "        [ 3, 17, 17]],\n",
       "\n",
       "       [[ 1, 18, 18],\n",
       "        [ 1, 13, 13]],\n",
       "\n",
       "       [[ 3, 16, 16],\n",
       "        [ 1, 12, 12]]])"
      ]
     },
     "execution_count": 41,
     "metadata": {},
     "output_type": "execute_result"
    }
   ],
   "source": [
    "s2"
   ]
  },
  {
   "cell_type": "code",
   "execution_count": 42,
   "id": "03c444cf",
   "metadata": {},
   "outputs": [
    {
     "data": {
      "text/plain": [
       "array([[[ 8, 13, 13],\n",
       "        [ 3, 17, 17]],\n",
       "\n",
       "       [[ 1, 18, 18],\n",
       "        [ 1, 13, 13]],\n",
       "\n",
       "       [[ 3, 16, 16],\n",
       "        [ 1, 12, 12]]])"
      ]
     },
     "execution_count": 42,
     "metadata": {},
     "output_type": "execute_result"
    }
   ],
   "source": [
    "np.dstack((a1, a2, a2))"
   ]
  },
  {
   "cell_type": "code",
   "execution_count": 43,
   "id": "9828e4c3",
   "metadata": {},
   "outputs": [],
   "source": [
    "x = np.array([1,3,4,2])"
   ]
  },
  {
   "cell_type": "code",
   "execution_count": 44,
   "id": "8124fdbb",
   "metadata": {},
   "outputs": [
    {
     "data": {
      "text/plain": [
       "array([1, 3, 4, 2])"
      ]
     },
     "execution_count": 44,
     "metadata": {},
     "output_type": "execute_result"
    }
   ],
   "source": [
    "x"
   ]
  },
  {
   "cell_type": "code",
   "execution_count": 45,
   "id": "59fddb9e",
   "metadata": {},
   "outputs": [
    {
     "data": {
      "text/plain": [
       "(4,)"
      ]
     },
     "execution_count": 45,
     "metadata": {},
     "output_type": "execute_result"
    }
   ],
   "source": [
    "x.shape"
   ]
  },
  {
   "cell_type": "code",
   "execution_count": 46,
   "id": "257967ca",
   "metadata": {},
   "outputs": [],
   "source": [
    "y=np.dstack(x)"
   ]
  },
  {
   "cell_type": "code",
   "execution_count": 47,
   "id": "a16b6301",
   "metadata": {},
   "outputs": [
    {
     "data": {
      "text/plain": [
       "array([[[1, 3, 4, 2]]])"
      ]
     },
     "execution_count": 47,
     "metadata": {},
     "output_type": "execute_result"
    }
   ],
   "source": [
    "y"
   ]
  },
  {
   "cell_type": "code",
   "execution_count": 48,
   "id": "13c44ec6",
   "metadata": {},
   "outputs": [
    {
     "data": {
      "text/plain": [
       "(1, 1, 4)"
      ]
     },
     "execution_count": 48,
     "metadata": {},
     "output_type": "execute_result"
    }
   ],
   "source": [
    "y.shape"
   ]
  },
  {
   "cell_type": "code",
   "execution_count": null,
   "id": "e816d92e",
   "metadata": {},
   "outputs": [],
   "source": []
  },
  {
   "cell_type": "code",
   "execution_count": null,
   "id": "37fd52a0",
   "metadata": {},
   "outputs": [],
   "source": []
  },
  {
   "cell_type": "code",
   "execution_count": 49,
   "id": "5916b94c",
   "metadata": {},
   "outputs": [],
   "source": [
    "# X_train_file = r'C:\\Users\\80136730\\1dCNN\\HARDataset\\UCI HAR Dataset\\train\\Inertial Signals\\body_acc_x_train.txt' \n",
    "# there are 8 more\n",
    "# y_train_file = r'C:\\Users\\80136730\\1dCNN\\HARDataset\\UCI HAR Dataset\\train\\y_train.txt'\n",
    "\n",
    "# X_test_file = r'C:\\Users\\80136730\\1dCNN\\HARDataset\\UCI HAR Dataset\\test\\Inertial Signals\\body_acc_x_test.txt'  \n",
    "# there are 8 more\n",
    "# y_test_file = r'C:\\Users\\80136730\\1dCNN\\HARDataset\\UCI HAR Dataset\\test\\y_test.txt'\n",
    "\n",
    "def read_file(filepath):\n",
    "    return pd.read_csv(filepath, header=None, delim_whitespace=True).values\n",
    "\n",
    "def dstack_files(subset, filenames):\n",
    "    file_list = []\n",
    "    for name in filenames:\n",
    "        file = read_file(subset + name)\n",
    "        file_list.append(file)\n",
    "    return np.dstack(file_list)\n",
    "\n",
    "def load_group(dataset, group):\n",
    "    subset = dataset + group + '/Inertial Signals/'\n",
    "    filenames = ['body_acc_x_'+group+'.txt', 'body_acc_y_'+group+'.txt','body_acc_z_'+group+'.txt',\n",
    "                 'body_gyro_x_'+group+'.txt', 'body_gyro_y_'+group+'.txt','body_gyro_z_'+group+'.txt',\n",
    "                 'total_acc_x_'+group+'.txt', 'total_acc_y_'+group+'.txt','total_acc_z_'+group+'.txt']\n",
    "    X = dstack_files(subset, filenames)\n",
    "    y = read_file(dataset + group + '/y_' + group + '.txt')\n",
    "    return X, y\n",
    "\n",
    "def load_data(dataset=r'C:/Users/80136730/1dCNN/HARDataset/UCI HAR Dataset/'):\n",
    "    X_train, y_train = load_group(dataset, 'train')\n",
    "    X_test, y_test = load_group(dataset, 'test')\n",
    "    return X_train, y_train, X_test, y_test "
   ]
  },
  {
   "cell_type": "code",
   "execution_count": 50,
   "id": "9bd194c2",
   "metadata": {},
   "outputs": [],
   "source": [
    "Xtrain, ytrain, Xtest, ytest = load_data()"
   ]
  },
  {
   "cell_type": "code",
   "execution_count": 51,
   "id": "01862702",
   "metadata": {},
   "outputs": [
    {
     "data": {
      "text/plain": [
       "array([[5],\n",
       "       [5],\n",
       "       [5],\n",
       "       ...,\n",
       "       [2],\n",
       "       [2],\n",
       "       [2]], dtype=int64)"
      ]
     },
     "execution_count": 51,
     "metadata": {},
     "output_type": "execute_result"
    }
   ],
   "source": [
    "ytest"
   ]
  },
  {
   "cell_type": "code",
   "execution_count": 52,
   "id": "12b20efc",
   "metadata": {},
   "outputs": [
    {
     "data": {
      "text/plain": [
       "((7352, 128, 9), (7352, 1), (2947, 128, 9), (2947, 1))"
      ]
     },
     "execution_count": 52,
     "metadata": {},
     "output_type": "execute_result"
    }
   ],
   "source": [
    "Xtrain.shape, ytrain.shape, Xtest.shape, ytest.shape"
   ]
  },
  {
   "cell_type": "code",
   "execution_count": 53,
   "id": "4d8da6cb",
   "metadata": {},
   "outputs": [],
   "source": [
    "yt = np.ndarray.tolist(ytrain)"
   ]
  },
  {
   "cell_type": "code",
   "execution_count": 54,
   "id": "5c3cb945",
   "metadata": {},
   "outputs": [],
   "source": [
    "tl = [item for sublist in yt for item in sublist]"
   ]
  },
  {
   "cell_type": "code",
   "execution_count": 55,
   "id": "69dba5be",
   "metadata": {},
   "outputs": [
    {
     "data": {
      "text/plain": [
       "dict_items([(5, 1374), (4, 1286), (6, 1407), (1, 1226), (3, 986), (2, 1073)])"
      ]
     },
     "execution_count": 55,
     "metadata": {},
     "output_type": "execute_result"
    }
   ],
   "source": [
    "Counter(tl).items()"
   ]
  },
  {
   "cell_type": "code",
   "execution_count": 66,
   "id": "59f10b1c",
   "metadata": {},
   "outputs": [
    {
     "data": {
      "text/plain": [
       "array([[ 0.00927963,  0.00665052, -0.02631933, ...,  0.9991921 ,\n",
       "        -0.2649349 ,  0.1256164 ],\n",
       "       [ 0.00492971,  0.01864973, -0.02688753, ...,  0.9946787 ,\n",
       "        -0.2532142 ,  0.1256249 ],\n",
       "       [ 0.0039536 ,  0.0155395 , -0.03663861, ...,  0.9935518 ,\n",
       "        -0.2565887 ,  0.1163814 ],\n",
       "       ...,\n",
       "       [ 0.0077876 ,  0.00473062,  0.01412899, ...,  1.001861  ,\n",
       "        -0.2619359 ,  0.1527878 ],\n",
       "       [ 0.00343349, -0.00461985,  0.00133805, ...,  0.9975208 ,\n",
       "        -0.2713225 ,  0.1398428 ],\n",
       "       [-0.00123868, -0.01322889, -0.01703861, ...,  0.9928615 ,\n",
       "        -0.2799715 ,  0.1213135 ]])"
      ]
     },
     "execution_count": 66,
     "metadata": {},
     "output_type": "execute_result"
    }
   ],
   "source": [
    "Xtest[1]"
   ]
  },
  {
   "cell_type": "code",
   "execution_count": 67,
   "id": "67e060b8",
   "metadata": {},
   "outputs": [
    {
     "data": {
      "text/plain": [
       "array([ 0.00492971,  0.01864973, -0.02688753,  0.1752221 , -0.09536355,\n",
       "        0.04334361,  0.9946787 , -0.2532142 ,  0.1256249 ])"
      ]
     },
     "execution_count": 67,
     "metadata": {},
     "output_type": "execute_result"
    }
   ],
   "source": [
    "Xtest[1][1]"
   ]
  },
  {
   "cell_type": "code",
   "execution_count": 68,
   "id": "6a8a9b5c",
   "metadata": {},
   "outputs": [
    {
     "data": {
      "text/plain": [
       "128"
      ]
     },
     "execution_count": 68,
     "metadata": {},
     "output_type": "execute_result"
    }
   ],
   "source": [
    "len(Xtest[1])"
   ]
  },
  {
   "cell_type": "code",
   "execution_count": null,
   "id": "7f019e5d",
   "metadata": {},
   "outputs": [],
   "source": []
  },
  {
   "cell_type": "code",
   "execution_count": 143,
   "id": "5a87a535",
   "metadata": {},
   "outputs": [],
   "source": [
    "# one hot encode y\n",
    "ytrain_hot = to_categorical(ytrain-1, num_classes=6)\n",
    "ytest_hot = to_categorical(ytest-1, num_classes=6)"
   ]
  },
  {
   "cell_type": "code",
   "execution_count": 58,
   "id": "fe1cb915",
   "metadata": {},
   "outputs": [
    {
     "data": {
      "text/plain": [
       "(7352, 6)"
      ]
     },
     "execution_count": 58,
     "metadata": {},
     "output_type": "execute_result"
    }
   ],
   "source": [
    "ytrain_hot.shape"
   ]
  },
  {
   "cell_type": "code",
   "execution_count": 59,
   "id": "61ab2c9e",
   "metadata": {},
   "outputs": [
    {
     "data": {
      "text/plain": [
       "array([0., 0., 0., 0., 1., 0.], dtype=float32)"
      ]
     },
     "execution_count": 59,
     "metadata": {},
     "output_type": "execute_result"
    }
   ],
   "source": [
    "ytrain_hot[1]"
   ]
  },
  {
   "cell_type": "code",
   "execution_count": 60,
   "id": "4e79a3a4",
   "metadata": {},
   "outputs": [
    {
     "data": {
      "text/plain": [
       "array([[0., 1., 0., 0.],\n",
       "       [0., 0., 0., 1.]], dtype=float32)"
      ]
     },
     "execution_count": 60,
     "metadata": {},
     "output_type": "execute_result"
    }
   ],
   "source": [
    "to_categorical([1,3])"
   ]
  },
  {
   "cell_type": "code",
   "execution_count": 120,
   "id": "71b5d44c",
   "metadata": {
    "scrolled": true
   },
   "outputs": [
    {
     "data": {
      "text/plain": [
       "array([1, 2, 3, 4])"
      ]
     },
     "execution_count": 120,
     "metadata": {},
     "output_type": "execute_result"
    }
   ],
   "source": [
    "np.arange(4)+1"
   ]
  },
  {
   "cell_type": "code",
   "execution_count": null,
   "id": "fc4e1286",
   "metadata": {},
   "outputs": [],
   "source": []
  },
  {
   "cell_type": "code",
   "execution_count": null,
   "id": "77f5a7b2",
   "metadata": {},
   "outputs": [],
   "source": []
  }
 ],
 "metadata": {
  "kernelspec": {
   "display_name": "Deep",
   "language": "python",
   "name": "deep"
  },
  "language_info": {
   "codemirror_mode": {
    "name": "ipython",
    "version": 3
   },
   "file_extension": ".py",
   "mimetype": "text/x-python",
   "name": "python",
   "nbconvert_exporter": "python",
   "pygments_lexer": "ipython3",
   "version": "3.6.13"
  }
 },
 "nbformat": 4,
 "nbformat_minor": 5
}
