{
 "cells": [
  {
   "cell_type": "markdown",
   "id": "15117f21",
   "metadata": {},
   "source": [
    "# 1D CNN model, utilizing Keras Call-back in training and optimization. "
   ]
  },
  {
   "cell_type": "markdown",
   "id": "cc00c4c3",
   "metadata": {},
   "source": [
    "Excercise project inspired by https://www.machinecurve.com/index.php/2020/02/18/how-to-use-k-fold-cross-validation-with-keras/#evaluating-the-performance-of-your-model,\n",
    "https://machinelearningmastery.com/cnn-models-for-human-activity-recognition-time-series-classification/,\n",
    "https://www.geeksforgeeks.org/choose-optimal-number-of-epochs-to-train-a-neural-network-in-keras/#:~:text=Therefore%2C%20the%20optimal%20number%20of,values%20against%20number%20of%20epochs,\n",
    "and https://towardsdatascience.com/addressing-the-difference-between-keras-validation-split-and-sklearn-s-train-test-split-a3fb803b733."
   ]
  },
  {
   "cell_type": "code",
   "execution_count": 1,
   "id": "4f98e737",
   "metadata": {},
   "outputs": [],
   "source": [
    "import numpy as np\n",
    "import pandas as pd\n",
    "from sklearn.model_selection import train_test_split\n",
    "import matplotlib.pyplot as plt\n",
    "from collections import Counter"
   ]
  },
  {
   "cell_type": "code",
   "execution_count": 2,
   "id": "827f2d16",
   "metadata": {},
   "outputs": [
    {
     "name": "stderr",
     "output_type": "stream",
     "text": [
      "C:\\Users\\80136730\\Anaconda3\\envs\\Deep\\lib\\site-packages\\tensorflow\\python\\framework\\dtypes.py:516: FutureWarning: Passing (type, 1) or '1type' as a synonym of type is deprecated; in a future version of numpy, it will be understood as (type, (1,)) / '(1,)type'.\n",
      "  _np_qint8 = np.dtype([(\"qint8\", np.int8, 1)])\n",
      "C:\\Users\\80136730\\Anaconda3\\envs\\Deep\\lib\\site-packages\\tensorflow\\python\\framework\\dtypes.py:517: FutureWarning: Passing (type, 1) or '1type' as a synonym of type is deprecated; in a future version of numpy, it will be understood as (type, (1,)) / '(1,)type'.\n",
      "  _np_quint8 = np.dtype([(\"quint8\", np.uint8, 1)])\n",
      "C:\\Users\\80136730\\Anaconda3\\envs\\Deep\\lib\\site-packages\\tensorflow\\python\\framework\\dtypes.py:518: FutureWarning: Passing (type, 1) or '1type' as a synonym of type is deprecated; in a future version of numpy, it will be understood as (type, (1,)) / '(1,)type'.\n",
      "  _np_qint16 = np.dtype([(\"qint16\", np.int16, 1)])\n",
      "C:\\Users\\80136730\\Anaconda3\\envs\\Deep\\lib\\site-packages\\tensorflow\\python\\framework\\dtypes.py:519: FutureWarning: Passing (type, 1) or '1type' as a synonym of type is deprecated; in a future version of numpy, it will be understood as (type, (1,)) / '(1,)type'.\n",
      "  _np_quint16 = np.dtype([(\"quint16\", np.uint16, 1)])\n",
      "C:\\Users\\80136730\\Anaconda3\\envs\\Deep\\lib\\site-packages\\tensorflow\\python\\framework\\dtypes.py:520: FutureWarning: Passing (type, 1) or '1type' as a synonym of type is deprecated; in a future version of numpy, it will be understood as (type, (1,)) / '(1,)type'.\n",
      "  _np_qint32 = np.dtype([(\"qint32\", np.int32, 1)])\n",
      "C:\\Users\\80136730\\Anaconda3\\envs\\Deep\\lib\\site-packages\\tensorflow\\python\\framework\\dtypes.py:525: FutureWarning: Passing (type, 1) or '1type' as a synonym of type is deprecated; in a future version of numpy, it will be understood as (type, (1,)) / '(1,)type'.\n",
      "  np_resource = np.dtype([(\"resource\", np.ubyte, 1)])\n",
      "C:\\Users\\80136730\\Anaconda3\\envs\\Deep\\lib\\site-packages\\tensorboard\\compat\\tensorflow_stub\\dtypes.py:541: FutureWarning: Passing (type, 1) or '1type' as a synonym of type is deprecated; in a future version of numpy, it will be understood as (type, (1,)) / '(1,)type'.\n",
      "  _np_qint8 = np.dtype([(\"qint8\", np.int8, 1)])\n",
      "C:\\Users\\80136730\\Anaconda3\\envs\\Deep\\lib\\site-packages\\tensorboard\\compat\\tensorflow_stub\\dtypes.py:542: FutureWarning: Passing (type, 1) or '1type' as a synonym of type is deprecated; in a future version of numpy, it will be understood as (type, (1,)) / '(1,)type'.\n",
      "  _np_quint8 = np.dtype([(\"quint8\", np.uint8, 1)])\n",
      "C:\\Users\\80136730\\Anaconda3\\envs\\Deep\\lib\\site-packages\\tensorboard\\compat\\tensorflow_stub\\dtypes.py:543: FutureWarning: Passing (type, 1) or '1type' as a synonym of type is deprecated; in a future version of numpy, it will be understood as (type, (1,)) / '(1,)type'.\n",
      "  _np_qint16 = np.dtype([(\"qint16\", np.int16, 1)])\n",
      "C:\\Users\\80136730\\Anaconda3\\envs\\Deep\\lib\\site-packages\\tensorboard\\compat\\tensorflow_stub\\dtypes.py:544: FutureWarning: Passing (type, 1) or '1type' as a synonym of type is deprecated; in a future version of numpy, it will be understood as (type, (1,)) / '(1,)type'.\n",
      "  _np_quint16 = np.dtype([(\"quint16\", np.uint16, 1)])\n",
      "C:\\Users\\80136730\\Anaconda3\\envs\\Deep\\lib\\site-packages\\tensorboard\\compat\\tensorflow_stub\\dtypes.py:545: FutureWarning: Passing (type, 1) or '1type' as a synonym of type is deprecated; in a future version of numpy, it will be understood as (type, (1,)) / '(1,)type'.\n",
      "  _np_qint32 = np.dtype([(\"qint32\", np.int32, 1)])\n",
      "C:\\Users\\80136730\\Anaconda3\\envs\\Deep\\lib\\site-packages\\tensorboard\\compat\\tensorflow_stub\\dtypes.py:550: FutureWarning: Passing (type, 1) or '1type' as a synonym of type is deprecated; in a future version of numpy, it will be understood as (type, (1,)) / '(1,)type'.\n",
      "  np_resource = np.dtype([(\"resource\", np.ubyte, 1)])\n",
      "Using TensorFlow backend.\n"
     ]
    }
   ],
   "source": [
    "import tensorflow as tf\n",
    "\n",
    "from keras.utils import to_categorical\n",
    "from keras.models import Sequential\n",
    "from keras.layers import Dense\n",
    "from keras.layers import Flatten\n",
    "from keras.layers import Dropout\n",
    "from keras.layers.convolutional import Conv1D\n",
    "from keras.layers.convolutional import MaxPooling1D"
   ]
  },
  {
   "cell_type": "code",
   "execution_count": 3,
   "id": "4b674ff8",
   "metadata": {},
   "outputs": [],
   "source": [
    "pd.set_option('display.max_rows', 20)\n",
    "pd.set_option('display.max_columns', None)"
   ]
  },
  {
   "cell_type": "markdown",
   "id": "b78f8f2f",
   "metadata": {},
   "source": [
    "## Load data "
   ]
  },
  {
   "cell_type": "code",
   "execution_count": 4,
   "id": "8a774870",
   "metadata": {},
   "outputs": [],
   "source": [
    "# Load data from https://archive.ics.uci.edu/ml/machine-learning-databases/00240/UCI%20HAR%20Dataset.zip\n",
    "# and unzip all files into a new “HARDataset”directory in current working directory. "
   ]
  },
  {
   "cell_type": "code",
   "execution_count": 5,
   "id": "2b5456dd",
   "metadata": {},
   "outputs": [],
   "source": [
    "# X_train_file = r'C:\\Users\\80136730\\1dCNN\\HARDataset\\UCI HAR Dataset\\train\\Inertial Signals\\body_acc_x_train.txt' \n",
    "# there are 8 more\n",
    "# y_train_file = r'C:\\Users\\80136730\\1dCNN\\HARDataset\\UCI HAR Dataset\\train\\y_train.txt'\n",
    "\n",
    "# X_test_file = r'C:\\Users\\80136730\\1dCNN\\HARDataset\\UCI HAR Dataset\\test\\Inertial Signals\\body_acc_x_test.txt'  \n",
    "# there are 8 more\n",
    "# y_test_file = r'C:\\Users\\80136730\\1dCNN\\HARDataset\\UCI HAR Dataset\\test\\y_test.txt'"
   ]
  },
  {
   "cell_type": "code",
   "execution_count": 6,
   "id": "5916b94c",
   "metadata": {},
   "outputs": [],
   "source": [
    "def read_file(filepath):\n",
    "    return pd.read_csv(filepath, header=None, delim_whitespace=True).values\n",
    "\n",
    "def dstack_files(subset, filenames):\n",
    "    file_list = []\n",
    "    for name in filenames:\n",
    "        file = read_file(subset + name)\n",
    "        file_list.append(file)\n",
    "    return np.dstack(file_list)\n",
    "\n",
    "def load_group(dataset, group):\n",
    "    subset = dataset + group + '/Inertial Signals/'\n",
    "    filenames = ['body_acc_x_'+group+'.txt', 'body_acc_y_'+group+'.txt','body_acc_z_'+group+'.txt',\n",
    "                 'body_gyro_x_'+group+'.txt', 'body_gyro_y_'+group+'.txt','body_gyro_z_'+group+'.txt',\n",
    "                 'total_acc_x_'+group+'.txt', 'total_acc_y_'+group+'.txt','total_acc_z_'+group+'.txt']\n",
    "    X = dstack_files(subset, filenames)\n",
    "    y = read_file(dataset + group + '/y_' + group + '.txt')\n",
    "    return X, y\n",
    "\n",
    "def load_data(dataset=r'C:/Users/80136730/1dCNN/HARDataset/UCI HAR Dataset/'):\n",
    "    X_train, y_train = load_group(dataset, 'train')\n",
    "    X_test, y_test = load_group(dataset, 'test')\n",
    "    return X_train, y_train, X_test, y_test "
   ]
  },
  {
   "cell_type": "code",
   "execution_count": 7,
   "id": "9bd194c2",
   "metadata": {},
   "outputs": [],
   "source": [
    "Xtrain, ytrain, Xtest, ytest = load_data()"
   ]
  },
  {
   "cell_type": "code",
   "execution_count": 8,
   "id": "12b20efc",
   "metadata": {},
   "outputs": [
    {
     "data": {
      "text/plain": [
       "((7352, 128, 9), (7352, 1), (2947, 128, 9), (2947, 1))"
      ]
     },
     "execution_count": 8,
     "metadata": {},
     "output_type": "execute_result"
    }
   ],
   "source": [
    "Xtrain.shape, ytrain.shape, Xtest.shape, ytest.shape"
   ]
  },
  {
   "cell_type": "code",
   "execution_count": 10,
   "id": "559f9e29",
   "metadata": {},
   "outputs": [],
   "source": [
    "fullX = np.concatenate((Xtrain, Xtest))\n",
    "fully = np.concatenate((ytrain, ytest))"
   ]
  },
  {
   "cell_type": "code",
   "execution_count": 16,
   "id": "8a56a5c9",
   "metadata": {},
   "outputs": [
    {
     "data": {
      "text/plain": [
       "((10299, 128, 9), (10299, 1))"
      ]
     },
     "execution_count": 16,
     "metadata": {},
     "output_type": "execute_result"
    }
   ],
   "source": [
    "fullX.shape, fully.shape"
   ]
  },
  {
   "cell_type": "code",
   "execution_count": 17,
   "id": "5a87a535",
   "metadata": {},
   "outputs": [],
   "source": [
    "# one hot encode y\n",
    "fully_hot = to_categorical(fully-1, num_classes=6)"
   ]
  },
  {
   "cell_type": "code",
   "execution_count": 18,
   "id": "20517153",
   "metadata": {},
   "outputs": [],
   "source": [
    "X_train, X_test, y_train, y_test = train_test_split(fullX, fully_hot, test_size=0.18, random_state=88)\n",
    "X_train, X_val, y_train, y_val = train_test_split(X_train, y_train, test_size=0.20, random_state=88)"
   ]
  },
  {
   "cell_type": "code",
   "execution_count": 19,
   "id": "08bdff1a",
   "metadata": {},
   "outputs": [
    {
     "data": {
      "text/plain": [
       "((6756, 128, 9),\n",
       " (1689, 128, 9),\n",
       " (1854, 128, 9),\n",
       " (6756, 6),\n",
       " (1689, 6),\n",
       " (1854, 6))"
      ]
     },
     "execution_count": 19,
     "metadata": {},
     "output_type": "execute_result"
    }
   ],
   "source": [
    "X_train.shape, X_val.shape, X_test.shape, y_train.shape, y_val.shape, y_test.shape "
   ]
  },
  {
   "cell_type": "code",
   "execution_count": 28,
   "id": "efe6e8a0",
   "metadata": {},
   "outputs": [],
   "source": [
    "# what are the input and output data shapes? \n",
    "n_timesteps, n_features, n_outputs = X_train.shape[1], X_train.shape[2], y_train.shape[1]"
   ]
  },
  {
   "cell_type": "code",
   "execution_count": 29,
   "id": "d7fec3ba",
   "metadata": {},
   "outputs": [],
   "source": [
    "# build CNN model\n",
    "cnn1d_model = Sequential()\n",
    "cnn1d_model.add(Conv1D(filters=64, kernel_size=3, activation='relu', input_shape=(n_timesteps,n_features)))\n",
    "cnn1d_model.add(Conv1D(filters=64, kernel_size=3, activation='relu'))\n",
    "cnn1d_model.add(Dropout(0.5))\n",
    "cnn1d_model.add(MaxPooling1D(pool_size=2))\n",
    "cnn1d_model.add(Flatten())\n",
    "cnn1d_model.add(Dense(100, activation='relu'))\n",
    "cnn1d_model.add(Dense(n_outputs, activation='softmax'))\n",
    "cnn1d_model.compile(loss='categorical_crossentropy', optimizer='adam', metrics=['accuracy'])"
   ]
  },
  {
   "cell_type": "code",
   "execution_count": 25,
   "id": "edf38009",
   "metadata": {},
   "outputs": [],
   "source": [
    "from keras import callbacks"
   ]
  },
  {
   "cell_type": "code",
   "execution_count": null,
   "id": "08691564",
   "metadata": {},
   "outputs": [],
   "source": [
    "earlystopping = callbacks.EarlyStopping(monitor =\"val_loss\", \n",
    "                                        mode =\"min\", patience = 3, \n",
    "                                        restore_best_weights = True, verbose = 1)"
   ]
  },
  {
   "cell_type": "code",
   "execution_count": 30,
   "id": "e680a7e0",
   "metadata": {},
   "outputs": [
    {
     "name": "stdout",
     "output_type": "stream",
     "text": [
      "WARNING:tensorflow:From C:\\Users\\80136730\\Anaconda3\\envs\\Deep\\lib\\site-packages\\keras\\backend\\tensorflow_backend.py:422: The name tf.global_variables is deprecated. Please use tf.compat.v1.global_variables instead.\n",
      "\n",
      "Train on 6756 samples, validate on 1689 samples\n",
      "Epoch 1/25\n",
      "6756/6756 [==============================] - 3s 391us/step - loss: 0.9899 - accuracy: 0.6177 - val_loss: 0.6053 - val_accuracy: 0.7762\n",
      "Epoch 2/25\n",
      "6756/6756 [==============================] - 2s 360us/step - loss: 0.4965 - accuracy: 0.7980 - val_loss: 0.4594 - val_accuracy: 0.8360\n",
      "Epoch 3/25\n",
      "6756/6756 [==============================] - 3s 407us/step - loss: 0.3592 - accuracy: 0.8655 - val_loss: 0.3689 - val_accuracy: 0.8774\n",
      "Epoch 4/25\n",
      "6756/6756 [==============================] - 3s 512us/step - loss: 0.2622 - accuracy: 0.9044 - val_loss: 0.2809 - val_accuracy: 0.9047\n",
      "Epoch 5/25\n",
      "6756/6756 [==============================] - 3s 481us/step - loss: 0.1980 - accuracy: 0.9298 - val_loss: 0.2359 - val_accuracy: 0.9307\n",
      "Epoch 6/25\n",
      "6756/6756 [==============================] - 3s 403us/step - loss: 0.1693 - accuracy: 0.9368 - val_loss: 0.2136 - val_accuracy: 0.9295\n",
      "Epoch 7/25\n",
      "6756/6756 [==============================] - 3s 425us/step - loss: 0.1508 - accuracy: 0.9457 - val_loss: 0.1890 - val_accuracy: 0.9443\n",
      "Epoch 8/25\n",
      "6756/6756 [==============================] - 3s 416us/step - loss: 0.1386 - accuracy: 0.9446 - val_loss: 0.1833 - val_accuracy: 0.9402\n",
      "Epoch 9/25\n",
      "6756/6756 [==============================] - 3s 412us/step - loss: 0.1265 - accuracy: 0.9522 - val_loss: 0.1703 - val_accuracy: 0.9361\n",
      "Epoch 10/25\n",
      "6756/6756 [==============================] - 3s 436us/step - loss: 0.1176 - accuracy: 0.9537 - val_loss: 0.1655 - val_accuracy: 0.9337\n",
      "Epoch 11/25\n",
      "6756/6756 [==============================] - 3s 395us/step - loss: 0.1174 - accuracy: 0.9540 - val_loss: 0.1639 - val_accuracy: 0.9396\n",
      "Epoch 12/25\n",
      "6756/6756 [==============================] - 3s 421us/step - loss: 0.1154 - accuracy: 0.9522 - val_loss: 0.1524 - val_accuracy: 0.9503\n",
      "Epoch 13/25\n",
      "6756/6756 [==============================] - 3s 375us/step - loss: 0.1076 - accuracy: 0.9575 - val_loss: 0.1448 - val_accuracy: 0.9532\n",
      "Epoch 14/25\n",
      "6756/6756 [==============================] - 2s 359us/step - loss: 0.1053 - accuracy: 0.9572 - val_loss: 0.1518 - val_accuracy: 0.9503\n",
      "Epoch 15/25\n",
      "6756/6756 [==============================] - 2s 362us/step - loss: 0.1029 - accuracy: 0.9594 - val_loss: 0.1445 - val_accuracy: 0.9479\n",
      "Epoch 16/25\n",
      "6756/6756 [==============================] - 3s 388us/step - loss: 0.0994 - accuracy: 0.9594 - val_loss: 0.1438 - val_accuracy: 0.9538\n",
      "Epoch 17/25\n",
      "6756/6756 [==============================] - 3s 383us/step - loss: 0.1101 - accuracy: 0.9535 - val_loss: 0.1473 - val_accuracy: 0.9497\n",
      "Epoch 18/25\n",
      "6756/6756 [==============================] - 3s 375us/step - loss: 0.1049 - accuracy: 0.9540 - val_loss: 0.1413 - val_accuracy: 0.9479\n",
      "Epoch 19/25\n",
      "6756/6756 [==============================] - 2s 361us/step - loss: 0.0964 - accuracy: 0.9628 - val_loss: 0.1333 - val_accuracy: 0.9532\n",
      "Epoch 20/25\n",
      "6756/6756 [==============================] - 3s 392us/step - loss: 0.0960 - accuracy: 0.9623 - val_loss: 0.1613 - val_accuracy: 0.9272\n",
      "Epoch 21/25\n",
      "6756/6756 [==============================] - 3s 391us/step - loss: 0.1080 - accuracy: 0.9565 - val_loss: 0.1395 - val_accuracy: 0.9568\n",
      "Epoch 22/25\n",
      "6756/6756 [==============================] - 3s 372us/step - loss: 0.1013 - accuracy: 0.9577 - val_loss: 0.1370 - val_accuracy: 0.9432\n",
      "Epoch 23/25\n",
      "6756/6756 [==============================] - 2s 364us/step - loss: 0.0917 - accuracy: 0.9615 - val_loss: 0.1307 - val_accuracy: 0.9568\n",
      "Epoch 24/25\n",
      "6756/6756 [==============================] - 2s 365us/step - loss: 0.0900 - accuracy: 0.9649 - val_loss: 0.1294 - val_accuracy: 0.9550\n",
      "Epoch 25/25\n",
      "6756/6756 [==============================] - 3s 398us/step - loss: 0.0859 - accuracy: 0.9671 - val_loss: 0.1265 - val_accuracy: 0.9544\n"
     ]
    }
   ],
   "source": [
    "history = cnn1d_model.fit(X_train, y_train, batch_size = 500, epochs = 25, \n",
    "                    validation_data =(X_val, y_val), \n",
    "                    callbacks =[earlystopping])"
   ]
  },
  {
   "cell_type": "code",
   "execution_count": 46,
   "id": "7708268f",
   "metadata": {},
   "outputs": [],
   "source": [
    "def plot_histories(history, metrics = history.history.keys()):\n",
    "    \n",
    "    fig, axes = plt.subplots(nrows = (len(metrics) - 1) // 2 + 1, ncols = 2, figsize = (12,8))\n",
    "    \n",
    "    for i,metric in enumerate(metrics):        \n",
    "        axes[(i+2)//2 - 1, 1 - (i+1)%2].plot(history.history[metric])\n",
    "        axes[(i+2)//2 - 1, 1 - (i+1)%2].set_xticks(np.arange(len(history.history[metric])))\n",
    "        axes[(i+2)//2 - 1, 1 - (i+1)%2].set_xticklabels(1+np.arange(len(history.history[metric])))\n",
    "        axes[(i+2)//2 - 1, 1 - (i+1)%2].set_title(metric)"
   ]
  },
  {
   "cell_type": "code",
   "execution_count": 47,
   "id": "bb6760a6",
   "metadata": {},
   "outputs": [
    {
     "data": {
      "image/png": "[encoded data removed]",
      "text/plain": [
       "<Figure size 864x576 with 4 Axes>"
      ]
     },
     "metadata": {
      "needs_background": "light"
     },
     "output_type": "display_data"
    }
   ],
   "source": [
    "plot_histories(history)"
   ]
  },
  {
   "cell_type": "code",
   "execution_count": null,
   "id": "ebb1747c",
   "metadata": {},
   "outputs": [],
   "source": [
    "# number of epochs should not exceed 18"
   ]
  },
  {
   "cell_type": "code",
   "execution_count": null,
   "id": "6568ab42",
   "metadata": {},
   "outputs": [],
   "source": [
    "\"\"\"\n",
    "Callbacks\n",
    "\n",
    "callback_progbar_logger()\n",
    "\n",
    "Callback that prints metrics to stdout.\n",
    "\n",
    "callback_model_checkpoint()\n",
    "\n",
    "Save the model after every epoch.\n",
    "\n",
    "callback_early_stopping()\n",
    "\n",
    "Stop training when a monitored quantity has stopped improving.\n",
    "\n",
    "callback_remote_monitor()\n",
    "\n",
    "Callback used to stream events to a server.\n",
    "\n",
    "callback_learning_rate_scheduler()\n",
    "\n",
    "Learning rate scheduler.\n",
    "\n",
    "callback_tensorboard()\n",
    "\n",
    "TensorBoard basic visualizations\n",
    "\n",
    "callback_reduce_lr_on_plateau()\n",
    "\n",
    "Reduce learning rate when a metric has stopped improving.\n",
    "\n",
    "callback_terminate_on_naan()\n",
    "\n",
    "Callback that terminates training when a NaN loss is encountered.\n",
    "\n",
    "callback_csv_logger()\n",
    "\n",
    "Callback that streams epoch results to a csv file\n",
    "\n",
    "callback_lambda()\n",
    "\n",
    "Create a custom callback\n",
    "\n",
    "KerasCallback\n",
    "\n",
    "(Deprecated) Base R6 class for Keras callbacks\n",
    "\"\"\""
   ]
  },
  {
   "cell_type": "code",
   "execution_count": null,
   "id": "b2a85888",
   "metadata": {},
   "outputs": [],
   "source": [
    "# Approaches for further model optimization: \n",
    "    # normalize data\n",
    "    # varing model construction (layers)\n",
    "    # kernal (window) size\n",
    "    # multi-headed CNN with different hyperparameters"
   ]
  },
  {
   "cell_type": "code",
   "execution_count": null,
   "id": "3171be34",
   "metadata": {},
   "outputs": [],
   "source": []
  },
  {
   "cell_type": "code",
   "execution_count": null,
   "id": "e602c04b",
   "metadata": {},
   "outputs": [],
   "source": []
  },
  {
   "cell_type": "code",
   "execution_count": null,
   "id": "a1683472",
   "metadata": {},
   "outputs": [],
   "source": []
  },
  {
   "cell_type": "code",
   "execution_count": null,
   "id": "7f6c7bd0",
   "metadata": {},
   "outputs": [],
   "source": []
  },
  {
   "cell_type": "code",
   "execution_count": null,
   "id": "e44bd200",
   "metadata": {},
   "outputs": [],
   "source": []
  }
 ],
 "metadata": {
  "kernelspec": {
   "display_name": "Deep",
   "language": "python",
   "name": "deep"
  },
  "language_info": {
   "codemirror_mode": {
    "name": "ipython",
    "version": 3
   },
   "file_extension": ".py",
   "mimetype": "text/x-python",
   "name": "python",
   "nbconvert_exporter": "python",
   "pygments_lexer": "ipython3",
   "version": "3.6.13"
  }
 },
 "nbformat": 4,
 "nbformat_minor": 5
}
